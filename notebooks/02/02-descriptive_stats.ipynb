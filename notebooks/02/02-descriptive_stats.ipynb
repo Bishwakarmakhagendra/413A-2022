{
  "cells": [
    {
      "cell_type": "markdown",
      "metadata": {
        "id": "qXY7HOijS0_J"
      },
      "source": [
        "<a href=\"https://colab.research.google.com/github/chu-ise/413A-2022/blob/main/notebooks/02/02-descriptive_stats.ipynb\" target=\"_parent\"><img src=\"https://colab.research.google.com/assets/colab-badge.svg\" alt=\"Open In Colab\"/></a>"
      ]
    },
    {
      "cell_type": "code",
      "execution_count": 1,
      "metadata": {
        "colab": {
          "base_uri": "https://localhost:8080/"
        },
        "id": "b6mTcyFUS-95",
        "outputId": "a3b99a54-055a-4218-938a-c2ee7132ddc5"
      },
      "outputs": [
        {
          "name": "stderr",
          "output_type": "stream",
          "text": [
            "Downloading...\n",
            "From: https://drive.google.com/uc?id=13mnxeW8lnMwajQHt88dXvnc8ONOJHEIK\n",
            "To: /content/data.zip\n",
            "100%|██████████| 455k/455k [00:00<00:00, 35.3MB/s]"
          ]
        },
        {
          "name": "stdout",
          "output_type": "stream",
          "text": [
            "Archive:  data.zip\n",
            "   creating: data/\n",
            "  inflating: data/adult.data         \n",
            "  inflating: data/SOCR_MLB.tsv       \n",
            "  inflating: data/global_warming.csv  \n",
            "  inflating: data/test_data.csv      \n"
          ]
        },
        {
          "name": "stderr",
          "output_type": "stream",
          "text": [
            "\n"
          ]
        }
      ],
      "source": [
        "import gdown\n",
        "import os\n",
        "id = \"13mnxeW8lnMwajQHt88dXvnc8ONOJHEIK\"\n",
        "\n",
        "data_file = \"data.zip\"\n",
        "gdown.download(id=id, output=data_file, quiet=False)\n",
        "!unzip $data_file"
      ]
    },
    {
      "cell_type": "markdown",
      "metadata": {
        "id": "BgnmMbaiS0_M",
        "nbpresent": {
          "id": "dac6427e-b8df-46f9-bfd3-b24427a73993"
        }
      },
      "source": [
        "# Introduction to Descriptive Statistics\n",
        "\n",
        "- variable types \n",
        "- descriptive statistics in python (min, max, mean, median, std, var, histograms, quantiles) \n",
        "- simple plotting functions \n",
        "- correlation vs causation\n",
        "- confounding variables \n",
        "- descriptive vs. inferential statistics\n",
        "- discrete and continuous random variables (e.g.: Bernoulli, Binomial, Normal)"
      ]
    },
    {
      "cell_type": "code",
      "execution_count": 2,
      "metadata": {
        "id": "-zeDR6DJS0_P"
      },
      "outputs": [],
      "source": [
        "# First import python packages\n",
        "import numpy as np\n",
        "import pandas as pd\n",
        "\n",
        "import matplotlib.pyplot as plt\n",
        "#So that graphs are included in the notebook\n",
        "%matplotlib inline \n",
        "plt.rcParams['figure.figsize'] = (10, 6)\n",
        "plt.style.use('ggplot')"
      ]
    },
    {
      "cell_type": "markdown",
      "metadata": {
        "id": "_iec-vY3S0_Q"
      },
      "source": [
        "## Alta monthly average snowfall, October - April\n",
        "\n",
        "Let's compute descriptive statistics for the monthly average snowfall at Alta. \n",
        "\n",
        "The snowfall data was collected from 1980 to 2014 and is available [here](https://www.alta.com/conditions/weather-observations/snowfall-history)."
      ]
    },
    {
      "cell_type": "code",
      "execution_count": 3,
      "metadata": {
        "colab": {
          "base_uri": "https://localhost:8080/"
        },
        "id": "niqRBvDLS0_Q",
        "nbpresent": {
          "id": "61e1167e-99ef-4b5d-b717-07a46077a091"
        },
        "outputId": "2f6f16b5-8c2a-463e-dc2f-5f921e0fad38"
      },
      "outputs": [
        {
          "name": "stdout",
          "output_type": "stream",
          "text": [
            "<class 'list'>\n",
            "<class 'float'>\n",
            "<class 'list'>\n",
            "<class 'str'>\n"
          ]
        }
      ],
      "source": [
        "Alta_avg_month_snow = [28.50,76.77,92.00,95.40,90.85,99.66,80.00]\n",
        "months = ['Oct','Nov','Dec','Jan','Feb','March','Apr']\n",
        "\n",
        "# Alta_avg_month_snow is a list of floats\n",
        "print(type(Alta_avg_month_snow))\n",
        "print(type(Alta_avg_month_snow[0]))\n",
        "\n",
        "# months is a list of strings\n",
        "print(type(months))\n",
        "print(type(months[0]))"
      ]
    },
    {
      "cell_type": "code",
      "execution_count": 4,
      "metadata": {
        "colab": {
          "base_uri": "https://localhost:8080/"
        },
        "id": "Dks-ds5mS0_R",
        "outputId": "f4e6192a-92f9-4aaf-c722-7d09b338aa90"
      },
      "outputs": [
        {
          "data": {
            "text/plain": [
              "7"
            ]
          },
          "execution_count": 4,
          "metadata": {},
          "output_type": "execute_result"
        }
      ],
      "source": [
        "# how many months of data do we have?\n",
        "len(Alta_avg_month_snow)"
      ]
    },
    {
      "cell_type": "code",
      "execution_count": 5,
      "metadata": {
        "colab": {
          "base_uri": "https://localhost:8080/"
        },
        "id": "aSv3uML9S0_R",
        "outputId": "25e8b007-9a64-4f6b-c843-c1b07dad15fa"
      },
      "outputs": [
        {
          "name": "stdout",
          "output_type": "stream",
          "text": [
            "28.5\n",
            "99.66\n"
          ]
        }
      ],
      "source": [
        "# compute the min and max snowfall\n",
        "print(np.min(Alta_avg_month_snow))\n",
        "print(np.max(Alta_avg_month_snow))"
      ]
    },
    {
      "cell_type": "code",
      "execution_count": 6,
      "metadata": {
        "colab": {
          "base_uri": "https://localhost:8080/"
        },
        "id": "zGxZHXZFS0_S",
        "nbpresent": {
          "id": "86c3f014-9535-48f0-95a2-df74d16eaa69"
        },
        "outputId": "9076c91d-a944-4976-ed23-b49e8469c539"
      },
      "outputs": [
        {
          "name": "stdout",
          "output_type": "stream",
          "text": [
            "0\n",
            "Oct\n",
            "28.5\n",
            "March\n",
            "99.66\n"
          ]
        }
      ],
      "source": [
        "# what month do these correspond to? \n",
        "imin = np.argmin(Alta_avg_month_snow)\n",
        "print(imin)\n",
        "print(months[imin])\n",
        "print(Alta_avg_month_snow[imin])\n",
        "\n",
        "imax = np.argmax(Alta_avg_month_snow)\n",
        "print(months[imax])\n",
        "print(Alta_avg_month_snow[imax])\n"
      ]
    },
    {
      "cell_type": "code",
      "execution_count": 7,
      "metadata": {
        "colab": {
          "base_uri": "https://localhost:8080/"
        },
        "id": "4h90bDcMS0_S",
        "nbpresent": {
          "id": "be5bedf1-b9ed-4caa-bc3e-6c390df97946"
        },
        "outputId": "57d44b90-f82d-4ff5-fc5c-79ba14a3cd6a"
      },
      "outputs": [
        {
          "name": "stdout",
          "output_type": "stream",
          "text": [
            "80.4542857142857\n"
          ]
        }
      ],
      "source": [
        "# compute the mean\n",
        "mean_snow = np.mean(Alta_avg_month_snow)\n",
        "print(mean_snow)"
      ]
    },
    {
      "cell_type": "code",
      "execution_count": 8,
      "metadata": {
        "colab": {
          "base_uri": "https://localhost:8080/"
        },
        "id": "vb0NVYxES0_S",
        "nbpresent": {
          "id": "4992f285-654f-485e-81ef-8a6ae18cad34"
        },
        "outputId": "a8edd502-d1ea-4ded-e780-2da94a19f46e"
      },
      "outputs": [
        {
          "name": "stdout",
          "output_type": "stream",
          "text": [
            "90.85\n"
          ]
        }
      ],
      "source": [
        "# compute the median\n",
        "median_snow = np.median(Alta_avg_month_snow)\n",
        "print(median_snow)"
      ]
    },
    {
      "cell_type": "markdown",
      "metadata": {
        "id": "3sF1MIl-S0_T"
      },
      "source": [
        "## Plotting quantitative data\n",
        "\n",
        "We can use the python library [matplotlib](https://matplotlib.org/) to make a simple plot of the average monthly snowfall. After all, a picture is worth a thousand words. \n",
        "\n"
      ]
    },
    {
      "cell_type": "code",
      "execution_count": 9,
      "metadata": {
        "colab": {
          "base_uri": "https://localhost:8080/",
          "height": 731
        },
        "id": "UKtoINvSS0_T",
        "outputId": "ce3fdc26-c0f9-4cf4-ad3c-ce5480199033"
      },
      "outputs": [
        {
          "data": {
            "image/png": "[encoded data removed]",
            "text/plain": [
              "<Figure size 720x432 with 1 Axes>"
            ]
          },
          "metadata": {},
          "output_type": "display_data"
        },
        {
          "data": {
            "image/png": "[encoded data removed]",
            "text/plain": [
              "<Figure size 720x432 with 1 Axes>"
            ]
          },
          "metadata": {},
          "output_type": "display_data"
        }
      ],
      "source": [
        "plt.plot(np.arange(7), Alta_avg_month_snow) #Note: plot(y) uses x as 0..N-1; plot(x,y) plots x versus y\n",
        "#print(np.arange(7))\n",
        "#plt.xticks(np.arange(7),months)\n",
        "#plt.plot([0,6],[mean_snow,mean_snow], label=\"mean avg. monthly snowfall\")\n",
        "#plt.plot([0,6],[median_snow,median_snow], label=\"median avg. monthly snowfall\")\n",
        "#plt.title(\"Alta average monthly snowfall\")\n",
        "#plt.xlabel(\"month\")\n",
        "#plt.ylabel(\"snowfall (inches)\")\n",
        "#plt.legend(loc='lower right')\n",
        "plt.show() #Display all previous plots in one figure\n",
        "plt.plot(np.arange(7), Alta_avg_month_snow,'o')\n",
        "plt.show() "
      ]
    },
    {
      "cell_type": "markdown",
      "metadata": {
        "id": "lMnUqFY7S0_T",
        "nbpresent": {
          "id": "de60c848-d1fb-478d-a736-0ebe21762a24"
        }
      },
      "source": [
        "## Population data from the 1994 census\n",
        "\n",
        "Let's compute some descriptive statistics for age in the 1994 census. We'll use the 'Census Income' dataset available [here](https://archive.ics.uci.edu/ml/datasets/Adult)."
      ]
    },
    {
      "cell_type": "code",
      "execution_count": 10,
      "metadata": {
        "colab": {
          "base_uri": "https://localhost:8080/"
        },
        "id": "vF9Y7a0uS0_U",
        "nbpresent": {
          "id": "a6fd92a3-b57e-45c5-b216-f9f475baf8ce"
        },
        "outputId": "7ea7a100-63f3-4a30-df3e-05fadd195f63"
      },
      "outputs": [
        {
          "name": "stdout",
          "output_type": "stream",
          "text": [
            "<class 'pandas.core.frame.DataFrame'>\n"
          ]
        }
      ],
      "source": [
        "# use pandas to import a table of data from a website\n",
        "data = pd.read_table(\"data/adult.data\", sep=\",\", \n",
        "                  names=(\"age\", \"type_employer\", \"fnlwgt\", \"education\", \"education_num\", \"marital\", \n",
        "                         \"occupation\", \"relationship\", \"race\",\"sex\",\"capital_gain\", \"capital_loss\", \n",
        "                         \"hr_per_week\",\"country\", \"income\"))\n",
        "print(type(data))\n"
      ]
    },
    {
      "cell_type": "code",
      "execution_count": 11,
      "metadata": {
        "colab": {
          "base_uri": "https://localhost:8080/"
        },
        "id": "zYkEthc4S0_U",
        "outputId": "a166d6ab-e309-4df4-fb82-3619f28325f4"
      },
      "outputs": [
        {
          "name": "stdout",
          "output_type": "stream",
          "text": [
            "       age      type_employer  fnlwgt    education  education_num  \\\n",
            "0       39          State-gov   77516    Bachelors             13   \n",
            "1       50   Self-emp-not-inc   83311    Bachelors             13   \n",
            "2       38            Private  215646      HS-grad              9   \n",
            "3       53            Private  234721         11th              7   \n",
            "4       28            Private  338409    Bachelors             13   \n",
            "...    ...                ...     ...          ...            ...   \n",
            "32556   27            Private  257302   Assoc-acdm             12   \n",
            "32557   40            Private  154374      HS-grad              9   \n",
            "32558   58            Private  151910      HS-grad              9   \n",
            "32559   22            Private  201490      HS-grad              9   \n",
            "32560   52       Self-emp-inc  287927      HS-grad              9   \n",
            "\n",
            "                   marital          occupation    relationship    race  \\\n",
            "0            Never-married        Adm-clerical   Not-in-family   White   \n",
            "1       Married-civ-spouse     Exec-managerial         Husband   White   \n",
            "2                 Divorced   Handlers-cleaners   Not-in-family   White   \n",
            "3       Married-civ-spouse   Handlers-cleaners         Husband   Black   \n",
            "4       Married-civ-spouse      Prof-specialty            Wife   Black   \n",
            "...                    ...                 ...             ...     ...   \n",
            "32556   Married-civ-spouse        Tech-support            Wife   White   \n",
            "32557   Married-civ-spouse   Machine-op-inspct         Husband   White   \n",
            "32558              Widowed        Adm-clerical       Unmarried   White   \n",
            "32559        Never-married        Adm-clerical       Own-child   White   \n",
            "32560   Married-civ-spouse     Exec-managerial            Wife   White   \n",
            "\n",
            "           sex  capital_gain  capital_loss  hr_per_week         country  \\\n",
            "0         Male          2174             0           40   United-States   \n",
            "1         Male             0             0           13   United-States   \n",
            "2         Male             0             0           40   United-States   \n",
            "3         Male             0             0           40   United-States   \n",
            "4       Female             0             0           40            Cuba   \n",
            "...        ...           ...           ...          ...             ...   \n",
            "32556   Female             0             0           38   United-States   \n",
            "32557     Male             0             0           40   United-States   \n",
            "32558   Female             0             0           40   United-States   \n",
            "32559     Male             0             0           20   United-States   \n",
            "32560   Female         15024             0           40   United-States   \n",
            "\n",
            "       income  \n",
            "0       <=50K  \n",
            "1       <=50K  \n",
            "2       <=50K  \n",
            "3       <=50K  \n",
            "4       <=50K  \n",
            "...       ...  \n",
            "32556   <=50K  \n",
            "32557    >50K  \n",
            "32558   <=50K  \n",
            "32559   <=50K  \n",
            "32560    >50K  \n",
            "\n",
            "[32561 rows x 15 columns]\n"
          ]
        }
      ],
      "source": [
        "print(data)"
      ]
    },
    {
      "cell_type": "code",
      "execution_count": 12,
      "metadata": {
        "colab": {
          "base_uri": "https://localhost:8080/"
        },
        "id": "v7yuNv2yS0_U",
        "outputId": "8a074a91-ad37-470a-b0f9-a60d332ee5e3"
      },
      "outputs": [
        {
          "name": "stdout",
          "output_type": "stream",
          "text": [
            "[39, 50, 38, 53, 28, 37, 49, 52, 31, 42]\n"
          ]
        }
      ],
      "source": [
        "# export a list containing ages of people in 1994 Census\n",
        "ages = data[\"age\"].tolist()\n",
        "print(ages[:10])"
      ]
    },
    {
      "cell_type": "code",
      "execution_count": 13,
      "metadata": {
        "colab": {
          "base_uri": "https://localhost:8080/"
        },
        "id": "9DvWqicWS0_U",
        "nbpresent": {
          "id": "b79fa570-8c08-4820-a035-2a00bfae1a9b"
        },
        "outputId": "b8f78a9a-c6db-49e8-b542-f001f28b5141"
      },
      "outputs": [
        {
          "name": "stdout",
          "output_type": "stream",
          "text": [
            "32561\n",
            "17\n",
            "90\n",
            "38.58164675532078\n",
            "37.0\n"
          ]
        }
      ],
      "source": [
        "# now use numpy to compute descriptive statistics for ages\n",
        "print(len(ages))\n",
        "print(np.min(ages))\n",
        "print(np.max(ages))\n",
        "print(np.mean(ages))\n",
        "print(np.median(ages))"
      ]
    },
    {
      "cell_type": "markdown",
      "metadata": {
        "id": "ImOrYpLjS0_U",
        "nbpresent": {
          "id": "674ee724-0165-40c5-9296-83db8305fa4c"
        }
      },
      "source": [
        "## Histograms\n",
        "\n",
        "We can also make a histogram using the python library [matplotlib](https://matplotlib.org/) to show the distribution of ages in the dataset. "
      ]
    },
    {
      "cell_type": "code",
      "execution_count": 14,
      "metadata": {
        "colab": {
          "base_uri": "https://localhost:8080/",
          "height": 408
        },
        "id": "ozRyY0lyS0_V",
        "nbpresent": {
          "id": "06d04c6d-90a4-441d-9d6e-4f719490e12e"
        },
        "outputId": "d5051318-cf8d-4155-e70f-68e32c91fe82"
      },
      "outputs": [
        {
          "data": {
            "image/png": "[encoded data removed]",
            "text/plain": [
              "<Figure size 720x432 with 1 Axes>"
            ]
          },
          "metadata": {},
          "output_type": "display_data"
        }
      ],
      "source": [
        "plt.hist(ages,np.arange(0,100,4)) # Use bins defined by np.arange(0,100,4)\n",
        "#plt.hist(ages) # Use 20 bins\n",
        "plt.title(\"1994 Census Histogram\")\n",
        "plt.xlabel(\"Age\")\n",
        "plt.ylabel(\"Frequency\")\n",
        "plt.show()"
      ]
    },
    {
      "cell_type": "markdown",
      "metadata": {
        "id": "tkEQLlkyS0_V",
        "nbpresent": {
          "id": "e6a51e7a-d63e-4187-8899-bfbf03f8a4b6"
        }
      },
      "source": [
        "# Quantiles \n",
        "Quantiles describe what percentage of the observations in a sample have smaller value\n"
      ]
    },
    {
      "cell_type": "code",
      "execution_count": 15,
      "metadata": {
        "colab": {
          "base_uri": "https://localhost:8080/"
        },
        "id": "ycGtx0ctS0_V",
        "nbpresent": {
          "id": "a912604c-786a-448e-a908-397f28b46a13"
        },
        "outputId": "00602e3d-8d80-4238-988a-208760320c95"
      },
      "outputs": [
        {
          "name": "stdout",
          "output_type": "stream",
          "text": [
            "28.0\n",
            "48.0\n"
          ]
        }
      ],
      "source": [
        "print(np.percentile(ages,25))\n",
        "print(np.percentile(ages,75))"
      ]
    },
    {
      "cell_type": "markdown",
      "metadata": {
        "id": "SfbJdqW6S0_V"
      },
      "source": [
        "For this data, 25% of the people are under 28 years old\n",
        "\n",
        "The middle 50% of the data (the data between the 25% and 75% quantiles) is between 28 and 48 years old \n",
        "\n",
        "**Question**: how do I read off quantiles from a histogram? "
      ]
    },
    {
      "cell_type": "markdown",
      "metadata": {
        "id": "EG_6Wm-yS0_V"
      },
      "source": [
        "# Variance and Standard Deviation\n",
        "\n",
        "Variance and standard deviation quantify the amount of variation or dispersion of a set of data values.\n",
        "\n",
        "Mean, $\\mu = \\frac{1}{n} \\sum_{i = 1}^n x_i$ <br>\n",
        "Variance $= \\sigma^2   = \\frac{1}{n} \\sum_{i = 1}^n (x_i - \\mu)^2$ <br>\n",
        "Std. dev. $= \\sigma$\n"
      ]
    },
    {
      "cell_type": "code",
      "execution_count": 16,
      "metadata": {
        "colab": {
          "base_uri": "https://localhost:8080/"
        },
        "id": "-5XQntD8S0_V",
        "outputId": "7175572d-b573-49bb-c8e1-b1080e7b27cb"
      },
      "outputs": [
        {
          "name": "stdout",
          "output_type": "stream",
          "text": [
            "186.05568600783081\n",
            "13.640223092304275\n"
          ]
        }
      ],
      "source": [
        "print(np.var(ages))\n",
        "print(np.std(ages))"
      ]
    },
    {
      "cell_type": "markdown",
      "metadata": {
        "id": "kPrXPXgHS0_V"
      },
      "source": [
        "## Covariance and Correlation\n",
        "Covariance and correlation measure of how much two variables change together.\n",
        "\n",
        "The *covariance* of two variables $x$ and $y$ is given by\n",
        "$$\n",
        "cov(x,y) = \\frac{1}{n} \\sum_{i=1}^n (x_i - \\mu_x)(y_i - \\mu_y),\n",
        "$$ \n",
        "where\n",
        "+ $\\mu_x$ is mean of $x_1,x_2,\\ldots,x_n$ and\n",
        "+ $\\mu_y$ is mean of $y_1,y_2,\\ldots,y_n$.\n",
        "\n",
        "The *correlation coefficient* of two variables $x$ and $y$ is given by \n",
        "$$\n",
        "corr(x,y) = \\frac{cov(x,y)}{\\sigma_x \\sigma_y},\n",
        "$$\n",
        "where\n",
        "+ $\\sigma_x$ is std. dev. of $x_1,x_2,\\ldots,x_n$ and \n",
        "+ $\\sigma_y$ is std. dev. of $y_1,y_2,\\ldots,y_n$."
      ]
    },
    {
      "cell_type": "markdown",
      "metadata": {
        "id": "2hzfUuc4S0_W"
      },
      "source": [
        "In 1994 consensus data, let's use numpy to find the correlation between age and hr_per_week"
      ]
    },
    {
      "cell_type": "code",
      "execution_count": 17,
      "metadata": {
        "colab": {
          "base_uri": "https://localhost:8080/",
          "height": 765
        },
        "id": "m6EfZV_ZS0_W",
        "outputId": "ad7542c3-a243-43d2-d8cf-16d4a2cae145"
      },
      "outputs": [
        {
          "data": {
            "image/png": "[encoded data removed]",
            "text/plain": [
              "<Figure size 720x432 with 1 Axes>"
            ]
          },
          "metadata": {},
          "output_type": "display_data"
        },
        {
          "data": {
            "image/png": "[encoded data removed]",
            "text/plain": [
              "<Figure size 720x432 with 1 Axes>"
            ]
          },
          "metadata": {},
          "output_type": "display_data"
        }
      ],
      "source": [
        "hr = data[\"hr_per_week\"].tolist()\n",
        "\n",
        "plt.hist2d(ages,hr,bins=25)\n",
        "plt.title(\"Age vs. Hours worked per week\")\n",
        "plt.xlabel(\"Age\")\n",
        "plt.ylabel(\"Hours worked per week\")\n",
        "plt.show()\n",
        "plt.plot(ages,hr,'o')\n",
        "plt.show()"
      ]
    },
    {
      "cell_type": "code",
      "execution_count": 18,
      "metadata": {
        "colab": {
          "base_uri": "https://localhost:8080/"
        },
        "id": "AouXBkHWS0_W",
        "outputId": "c97cd93a-b902-4b9f-97dc-b40227e57946"
      },
      "outputs": [
        {
          "data": {
            "text/plain": [
              "array([[1.        , 0.06875571],\n",
              "       [0.06875571, 1.        ]])"
            ]
          },
          "execution_count": 18,
          "metadata": {},
          "output_type": "execute_result"
        }
      ],
      "source": [
        "np.corrcoef(ages,hr)"
      ]
    },
    {
      "cell_type": "markdown",
      "metadata": {
        "id": "LlvTnrTmS0_X"
      },
      "source": [
        "## Bernoulli Distribution\n",
        "\n",
        "The Bernoulli distribution, named after Jacob Bernoulli, is the probability distribution of a random variable which takes the value 1 (success) with probability $p$ and the value 0 (failure) with probability $q=1-p$. \n",
        "\n",
        "The Bernoulli distribution with $p=0.5$ (implying $q=0.5$) describes a 'fair' coin toss where 1 and 0  represent \"heads\" and \"tails\", respectively. If the coin is unfair, then we would have that $p\\neq 0.5$.\n",
        "\n",
        "We can use python to sample from the Bernoulli probability distribution. "
      ]
    },
    {
      "cell_type": "code",
      "execution_count": 19,
      "metadata": {
        "id": "pHk5oFRjS0_X"
      },
      "outputs": [],
      "source": [
        "import scipy as sc\n",
        "from scipy.stats import bernoulli, binom, norm"
      ]
    },
    {
      "cell_type": "code",
      "execution_count": 20,
      "metadata": {
        "colab": {
          "base_uri": "https://localhost:8080/"
        },
        "id": "td3c-gtsS0_X",
        "outputId": "6da5cb3a-e4ef-4b5d-e847-301c56c8013a"
      },
      "outputs": [
        {
          "name": "stdout",
          "output_type": "stream",
          "text": [
            "[0 0 1 1 0 1 0 1 1 1 0 1 1 0 0 1 0 1 0 0 0 1 1 1 0 1 1 1 1 0 1 0 1 0 0 1 0\n",
            " 0 1 0 1 1 0 0 0 1 1 1 1 1 0 1 0 0 0 0 0 0 1 1 1 1 1 0 1 0 0 0 1 0 0 1 1 0\n",
            " 0 1 1 0 1 0 0 1 0 0 0 1 1 1 1 0 1 0 0 1 0 0 1 0 1 0 1 0 1 1 0 1 0 1 0 1 1\n",
            " 1 0 0 0 1 0 1 1 0 0 0 0 1 0 1 1 1 1 1 0 1 1 1 0 0 1 1 1 1 1 1 0 1 0 1 0 1\n",
            " 0 0 0 0 0 0 0 1 0 1 0 1 1 1 0 1 0 1 0 1 1 0 0 0 0 1 0 1 1 1 0 1 0 1 0 0 0\n",
            " 1 0 0 0 1 0 0 0 0 0 1 1 0 1 1 0 0 1 0 0 0 1 0 1 0 1 1 0 1 0 1 0 1 1 0 0 1\n",
            " 1 0 1 1 1 0 0 1 1 0 1 0 1 1 1 0 0 1 0 1 1 0 1 0 0 0 0 1 0 0 0 0 1 0 0 0 0\n",
            " 0 1 1 0 1 0 0 0 0 0 1 0 0 0 1 0 0 0 1 0 0 1 1 1 0 1 0 1 1 0 1 0 1 1 1 0 0\n",
            " 0 1 1 1 1 0 1 1 0 1 0 0 0 1 0 0 1 1 1 0 0 1 0 1 0 0 1 1 1 0 0 0 0 0 1 0 0\n",
            " 1 0 0 1 0 0 1 1 1 0 0 1 0 0 1 1 1 1 1 0 0 1 1 0 0 0 1 0 1 0 0 1 0 0 0 1 0\n",
            " 0 0 1 1 0 1 0 0 1 0 1 1 1 1 0 1 0 1 0 1 0 0 1 0 1 0 0 0 0 1 0 0 0 0 1 1 1\n",
            " 0 1 0 1 1 1 0 0 0 0 0 1 1 1 0 0 0 0 0 0 0 1 1 1 1 0 0 1 1 0 1 0 1 0 0 0 0\n",
            " 1 0 0 1 1 0 0 1 1 0 0 0 1 1 0 1 0 1 1 0 1 0 1 1 1 1 1 0 1 1 0 0 0 0 0 1 1\n",
            " 0 1 1 0 1 0 1 0 1 1 0 1 1 1 0 1 0 0 0 0 1 1 1 1 0 1 1 0 0 0 0 0 0 1 1 0 0\n",
            " 1 0 1 1 1 0 1 0 0 1 1 0 1 1 1 0 1 1 0 0 0 1 0 1 0 0 1 1 0 1 1 0 0 0 0 0 1\n",
            " 1 0 0 0 0 0 0 1 0 1 0 0 1 0 1 1 0 1 0 0 0 0 0 1 1 1 1 0 1 0 0 0 0 0 1 0 0\n",
            " 1 0 1 1 1 0 1 1 1 0 0 0 0 0 1 0 0 1 0 1 1 0 0 0 1 0 0 0 0 0 1 1 1 0 1 1 0\n",
            " 1 1 0 0 0 0 1 0 0 1 1 0 1 0 0 0 1 1 1 1 1 0 0 1 0 0 0 0 0 1 0 1 1 0 1 0 1\n",
            " 0 0 0 0 0 0 1 1 1 0 1 0 0 1 1 1 1 0 0 0 0 1 1 1 1 1 0 1 0 0 0 1 0 1 0 1 1\n",
            " 0 1 0 1 0 0 0 1 0 1 1 0 0 1 1 1 0 1 1 1 1 1 1 1 0 0 1 0 0 0 1 0 0 1 0 1 0\n",
            " 0 0 0 0 0 1 0 1 1 0 0 0 1 1 1 0 0 1 1 0 1 1 1 0 1 0 0 0 0 1 0 1 0 1 0 0 0\n",
            " 0 0 1 0 0 0 1 0 0 1 1 1 0 1 1 1 0 1 1 1 0 1 0 0 0 1 1 1 0 1 0 0 1 0 0 1 0\n",
            " 1 0 1 0 0 0 0 0 0 1 1 0 0 1 0 1 0 0 1 0 0 1 1 1 0 1 1 1 1 1 0 0 0 0 0 0 0\n",
            " 1 0 0 0 1 0 1 0 1 0 0 1 0 1 1 0 1 1 1 0 0 1 1 1 0 1 0 0 0 0 1 1 0 1 1 1 0\n",
            " 0 0 0 0 1 0 1 0 0 0 0 1 0 0 1 1 1 1 1 0 0 1 1 1 1 0 0 0 1 1 0 1 0 1 0 1 1\n",
            " 0 1 1 0 0 1 1 0 1 1 0 0 0 1 0 1 0 0 0 0 0 0 1 0 0 1 1 1 1 0 1 1 1 0 0 0 1\n",
            " 1 0 0 1 1 0 0 1 0 0 0 0 1 1 1 0 0 0 0 0 1 0 1 1 0 1 0 0 1 1 1 1 0 1 0 1 0\n",
            " 1]\n"
          ]
        }
      ],
      "source": [
        "n = 1000;\n",
        "coin_flips = bernoulli.rvs(p=0.5, size=n)\n",
        "print(coin_flips)"
      ]
    },
    {
      "cell_type": "markdown",
      "metadata": {
        "id": "pIFHtSz5S0_X"
      },
      "source": [
        "How many heads did we get? We just count the number of 1's. "
      ]
    },
    {
      "cell_type": "code",
      "execution_count": 21,
      "metadata": {
        "colab": {
          "base_uri": "https://localhost:8080/"
        },
        "id": "G7gOl1lES0_X",
        "outputId": "f4b96105-3f64-43e9-c585-888feee660e0"
      },
      "outputs": [
        {
          "name": "stdout",
          "output_type": "stream",
          "text": [
            "469\n",
            "0.469\n"
          ]
        }
      ],
      "source": [
        "print(sum(coin_flips))\n",
        "print(sum(coin_flips)/n)"
      ]
    },
    {
      "cell_type": "markdown",
      "metadata": {
        "id": "n4vuxzj4S0_X"
      },
      "source": [
        "What if we flip the coin more times? "
      ]
    },
    {
      "cell_type": "code",
      "execution_count": 22,
      "metadata": {
        "colab": {
          "base_uri": "https://localhost:8080/"
        },
        "id": "_eTXLLkhS0_X",
        "outputId": "42c8166f-73f3-40c1-bb8b-2abfeaf5cd8e"
      },
      "outputs": [
        {
          "name": "stdout",
          "output_type": "stream",
          "text": [
            "0.49969\n"
          ]
        }
      ],
      "source": [
        "n = 1000000\n",
        "coin_flips = bernoulli.rvs(p=0.5, size=n)\n",
        "print(sum(coin_flips)/n)"
      ]
    },
    {
      "cell_type": "markdown",
      "metadata": {
        "id": "HVcuGL5DS0_X"
      },
      "source": [
        "Some facts about Bernoulli variables: \n",
        "* mean is p\n",
        "* variance is p(1-p)"
      ]
    },
    {
      "cell_type": "markdown",
      "metadata": {
        "id": "x4N30E2_S0_X"
      },
      "source": [
        "## Binomial distribution\n",
        "\n",
        "The binomial distribution, with parameters $n$ and $p$, is a discrete probability distribution describing the total number of \"successes\" in $n$ Bernoulli random variables. For simplicity, take $p=0.5$ so that the Bernoulli distribution describes the outcome of a coin. For each flip, the probability of heads is $p$ (so the probability of tails is $q=1-p$). But we don't keep track of the individual flips. We only keep track of how many heads/tails there were in total. So, the binomial distribution can be thought of as summarizing a bunch of (independent) Bernoulli random variables. \n",
        "\n",
        "The following code is equivalent to flipping a fair (p=0.5) coin n=10 times and counting the number of heads and then repeating this process 1,000,000 times. "
      ]
    },
    {
      "cell_type": "code",
      "execution_count": 23,
      "metadata": {
        "colab": {
          "base_uri": "https://localhost:8080/"
        },
        "id": "iylRuKHlS0_X",
        "outputId": "c7dd62a2-2cd8-4ab8-b85d-3d5bc1bdde22",
        "scrolled": true
      },
      "outputs": [
        {
          "name": "stdout",
          "output_type": "stream",
          "text": [
            "[7 3 6 5 8 4 6 6 5 4 4 6 5 5 4 3 6 5 7 5 6 6 4 4 6 4 4 5 4 3 4 7 3 3 6 4 9\n",
            " 6 7 3 7 5 6 4 3 3 5 5 5 5 4 6 5 4 6 6 6 5 3 8 4 3 7 4 4 7 6 7 8 5 6 5 6 4\n",
            " 6 7 8 4 5 5 6 8 7 4 4 7 4 5 6 5 5 4 7 4 7 4 7 6 4 5]\n"
          ]
        }
      ],
      "source": [
        "p = 0.5\n",
        "n = 10\n",
        "bin_vars = binom.rvs(n=n,p=p,size=1000000)\n",
        "print(bin_vars[:100])"
      ]
    },
    {
      "cell_type": "code",
      "execution_count": 24,
      "metadata": {
        "colab": {
          "base_uri": "https://localhost:8080/",
          "height": 409
        },
        "id": "knurq_cnS0_X",
        "outputId": "fd5de156-cf1f-436f-dc3f-2d496facba31",
        "scrolled": true
      },
      "outputs": [
        {
          "name": "stdout",
          "output_type": "stream",
          "text": [
            "[-0.5  0.5  1.5  2.5  3.5  4.5  5.5  6.5  7.5  8.5  9.5 10.5]\n"
          ]
        },
        {
          "data": {
            "image/png": "[encoded data removed]",
            "text/plain": [
              "<Figure size 720x432 with 1 Axes>"
            ]
          },
          "metadata": {},
          "output_type": "display_data"
        }
      ],
      "source": [
        "bins=np.arange(12)-.5\n",
        "print(bins)\n",
        "plt.hist(bin_vars, bins=bins,density=True)\n",
        "plt.title(\"A histogram of binomial random variables\")\n",
        "plt.xlim([-.5,10.5])\n",
        "plt.show()"
      ]
    },
    {
      "cell_type": "markdown",
      "metadata": {
        "id": "JCAoYww_S0_X"
      },
      "source": [
        "Some facts about the binomial distribution: \n",
        "* The mean is $np$\n",
        "* The variance is $np(1-p)$"
      ]
    },
    {
      "cell_type": "markdown",
      "metadata": {
        "id": "gUTUMUhCS0_Y"
      },
      "source": [
        "## Discrete random variables and probability mass functions \n",
        "\n",
        "The Binomial and Bernoulli random variables are examples of *discrete random variables* since they can take only discrete values. A Bernoulli random variable can take values $0$ or $1$. A binomial random variable  can only take values \n",
        "$$\n",
        "0,1,\\ldots, n. \n",
        "$$\n",
        "One can compute the probability that the variable takes each value. This is called the *probability mass function*. \n",
        "For a Bernoulli random variable, the probability mass function is given by \n",
        "$$\n",
        "f(k) = \\begin{cases} p & k=1 \\\\ 1-p & k = 0 \\end{cases}\n",
        "$$\n",
        "For a binomial random variable, the probability mass function is given by \n",
        "$$\n",
        "f(k) = \\binom{n}{k} p^k (1-p)^{n-k}.\n",
        "$$\n",
        "Here, $\\binom{n}{k} = \\frac{n!}{k!(n-k)!}$ is the number of ways to arrange the\n",
        "$k$ heads among the $n$ flips. For a fair coin, we have $p=0.5$ and $f(k) = \\binom{n}{k} \\frac{1}{2^n}$. This is the number of ways to arrange $k$ heads among $n$ outcomes divided by the total number of outcomes. \n",
        "\n",
        "The probability mass function can be plotted using the scipy library as follows."
      ]
    },
    {
      "cell_type": "code",
      "execution_count": 25,
      "metadata": {
        "colab": {
          "base_uri": "https://localhost:8080/",
          "height": 391
        },
        "id": "aTHBVqwFS0_Y",
        "outputId": "e2012e0c-8e91-4b98-857c-a81d83afee1c"
      },
      "outputs": [
        {
          "data": {
            "image/png": "[encoded data removed]",
            "text/plain": [
              "<Figure size 720x432 with 1 Axes>"
            ]
          },
          "metadata": {},
          "output_type": "display_data"
        }
      ],
      "source": [
        "f = lambda k: binom.pmf(k, n=n,p=p)\n",
        "\n",
        "x = np.arange(n+1);\n",
        "plt.plot(x, f(x),'*-')\n",
        "plt.title(\"Probability mass function for a Binomial random variable\")\n",
        "plt.xlim([0,n])\n",
        "plt.show()"
      ]
    },
    {
      "cell_type": "markdown",
      "metadata": {
        "id": "5valctocS0_Y"
      },
      "source": [
        "Observe that the probability mass function looks very much like the histogram plot! (not a coincidence) \n"
      ]
    },
    {
      "cell_type": "markdown",
      "metadata": {
        "id": "d9Y51VlgS0_Y"
      },
      "source": [
        "## Concept check\n",
        "\n",
        "**Question**: what is a discrete random variable? \n",
        "\n",
        "A *discrete random variable (r.v.)* is an abstraction of a coin. It can take on a *discrete* set of possible different values, each with a preassigned probability. We saw two examples of discrete random variables: Bernoulli and binomial.  A Bernoulli r.v. takes value $1$ with probability $p$ and $0$ with probability $1-p$. A binomial r.v. takes values $0,1,\\ldots,n$, with a given probability. The probabilities are given by the probability mass function. This function looks just like the histogram for a sample of a large number of random variables. \n",
        "\n",
        "You can use the same descriptive statistics to describe a discrete random value (min, max, mean, variance, etc..).\n",
        "\n",
        "**Question**: what is the random variable that describes a fair dice? the sum of two fair dice? "
      ]
    },
    {
      "cell_type": "markdown",
      "metadata": {
        "collapsed": true,
        "id": "J45zIWaPS0_Y"
      },
      "source": [
        "## Normal (Gaussian) distribution \n",
        "\n",
        "Roughly speaking, normal random variables are described by a \"bell curve\".  The curve is centered at the mean, $\\mu$, and has width given by the standard deviation, $\\sigma$. "
      ]
    },
    {
      "cell_type": "code",
      "execution_count": 26,
      "metadata": {
        "colab": {
          "base_uri": "https://localhost:8080/",
          "height": 374
        },
        "id": "p3hljqW0S0_Y",
        "outputId": "7d9638b8-77df-478f-8f6d-3acbcd0f7f20"
      },
      "outputs": [
        {
          "data": {
            "image/png": "[encoded data removed]",
            "text/plain": [
              "<Figure size 720x432 with 1 Axes>"
            ]
          },
          "metadata": {},
          "output_type": "display_data"
        }
      ],
      "source": [
        "mu = 0 # mean\n",
        "sigma = 1 # standard deviation \n",
        "x = np.arange(mu-4*sigma,mu+4*sigma,0.001);\n",
        "pdf = norm.pdf(x,loc=mu, scale=sigma)\n",
        "# Here, I could have also written\n",
        "# pdf = 1/(sigma * sc.sqrt(2 * sc.pi)) * sc.exp( - (x - mu)**2 / (2 * sigma**2)) \n",
        "plt.plot(x, pdf, linewidth=2, color='k')\n",
        "plt.show()"
      ]
    },
    {
      "cell_type": "markdown",
      "metadata": {
        "id": "dbR8-0NhS0_Y"
      },
      "source": [
        "## Continuous random variables and probability density functions \n",
        "\n",
        "A normal random variable is an example of a *continuous* random variable. A normal random variable can take any real value, but some numbers are more likely than others. More formally, we say that the *probability density function (PDF)* for the normal (Gaussian) distribution is\n",
        "$$\n",
        "f(x) = \\frac{1}{\\sqrt{ 2 \\pi \\sigma^2 }}\n",
        "e^{ - \\frac{ (x - \\mu)^2 } {2 \\sigma^2} },\n",
        "$$\n",
        "where $\\mu$ is the mean and $\\sigma$ is the variance. What this means is that the probability that a normal random variable will take values in the interval $[a,b]$ is given by \n",
        "$$\n",
        "\\int_a^b f(x) dx.\n",
        "$$\n",
        "This is just the area under the curve for this interval. For $a=\\mu-\\sigma$ and $b = \\mu+\\sigma$, we plot this below."
      ]
    },
    {
      "cell_type": "code",
      "execution_count": 27,
      "metadata": {
        "colab": {
          "base_uri": "https://localhost:8080/",
          "height": 374
        },
        "id": "3lk-a3fqS0_Y",
        "outputId": "69cd0184-d978-4b68-a76c-c5a416c748b7"
      },
      "outputs": [
        {
          "data": {
            "image/png": "[encoded data removed]",
            "text/plain": [
              "<Figure size 720x432 with 1 Axes>"
            ]
          },
          "metadata": {},
          "output_type": "display_data"
        }
      ],
      "source": [
        "plt.plot(x, pdf, linewidth=2, color='k')\n",
        "x2 = np.arange(mu-sigma,mu+sigma,0.001)\n",
        "plt.fill_between(x2, y1= norm.pdf(x2,loc=mu, scale=sigma), facecolor='red', alpha=0.5)\n",
        "plt.show()"
      ]
    },
    {
      "cell_type": "markdown",
      "metadata": {
        "id": "mUrq5TiUS0_Y"
      },
      "source": [
        "One can check that \n",
        "$$\n",
        "\\int_{-\\infty}^\\infty f(x) dx = 1\n",
        "$$\n",
        "which just means that the probability that the random variable takes value between $-\\infty$ and $\\infty$ is one. \n",
        "\n",
        "This integral can be computed using the *cumulative distribution function* (CDF)\n",
        "$$\n",
        "F(x) = \\int_{-\\infty}^x f(t) dt = \\text{Prob. random variable }\\leq x .\n",
        "$$\n",
        "We have that \n",
        "$$\n",
        "\\int_a^b f(x) dx = F(b) - F(a)\n",
        "$$\n"
      ]
    },
    {
      "cell_type": "code",
      "execution_count": 28,
      "metadata": {
        "colab": {
          "base_uri": "https://localhost:8080/"
        },
        "id": "bCZfoK2-S0_Z",
        "outputId": "d5482b28-b6ac-433c-b8a5-1e14251d67e1"
      },
      "outputs": [
        {
          "data": {
            "text/plain": [
              "0.6826894921370859"
            ]
          },
          "execution_count": 28,
          "metadata": {},
          "output_type": "execute_result"
        }
      ],
      "source": [
        "norm.cdf(mu+sigma, loc=mu, scale=sigma) - norm.cdf(mu-sigma, loc=mu, scale=sigma) "
      ]
    },
    {
      "cell_type": "markdown",
      "metadata": {
        "id": "n-6uMtHoS0_Z"
      },
      "source": [
        "This means that 68% of the time, this normal random variable will have values between $\\mu-\\sigma$ and $\\mu+\\sigma$. \n",
        "\n",
        "You used to have to look these values up in a table! \n",
        "\n",
        "Let's see what it looks like if we sample 1,000,000 normal random variables and then plot a histogram. "
      ]
    },
    {
      "cell_type": "code",
      "execution_count": 29,
      "metadata": {
        "colab": {
          "base_uri": "https://localhost:8080/",
          "height": 694
        },
        "id": "iI1PeSo7S0_Z",
        "outputId": "25a6cfe0-6fec-493d-bb01-2b8d5033a580"
      },
      "outputs": [
        {
          "name": "stdout",
          "output_type": "stream",
          "text": [
            "[ 0.12427539 -1.17146092  1.56576773  0.27789724  0.60100941  1.74726088\n",
            " -0.4250022   0.40747352 -0.822154    0.30603386  1.076894    1.61635607\n",
            " -0.35665344  1.01043231 -0.05758969 -0.46149593  0.21265672  0.80836776\n",
            " -0.7207094  -0.2067475   1.32100126 -0.71465846  0.07350694  0.47149857\n",
            "  0.38304712  0.13967683  1.74586808 -0.37431761  0.86324955  0.32995944\n",
            "  0.754919   -0.22623312 -1.86293653  0.43145446 -0.22165622  0.61399874\n",
            " -0.84120762  0.35011243 -1.16552859  0.295863   -0.67948342  1.15376503\n",
            "  2.16379166 -1.14760825  0.47791306 -0.87777887  1.12021041 -0.29917472\n",
            "  0.08756615  0.46939472 -0.55035269  0.03763262  0.4486613   0.68321434\n",
            " -0.69425674  0.48030845  1.68680528 -0.44924884 -0.09792667 -0.01124273\n",
            " -1.0265635   1.25511116 -0.05359175 -0.23031747 -0.63753588  1.1629441\n",
            " -0.39857197  0.05416999  0.28182486  0.86929209  0.76792115 -0.55294803\n",
            "  2.010776   -0.48709934  0.65959911  0.66940449  0.48674628 -0.63017998\n",
            " -0.51326948  0.52297126  0.82182702  0.27761274  0.49452316  0.97091724\n",
            " -0.9599207  -1.73891854 -1.01629615  0.69315685 -0.84516829 -0.67320471\n",
            " -0.11377708  0.99317034  1.27825314  0.35848304  0.1225674   1.64076765\n",
            "  0.97336594 -0.01523224 -0.41394017 -0.44686194]\n"
          ]
        },
        {
          "data": {
            "image/png": "[encoded data removed]",
            "text/plain": [
              "<Figure size 720x432 with 1 Axes>"
            ]
          },
          "metadata": {},
          "output_type": "display_data"
        }
      ],
      "source": [
        "norm_vars = norm.rvs(loc=mu,scale=sigma,size=1000000)\n",
        "print(norm_vars[:100])\n",
        "\n",
        "plt.hist(norm_vars, bins=100,density=True)\n",
        "plt.plot(x, pdf, linewidth=2, color='k')\n",
        "plt.title(\"A histogram of normal random variables\")\n",
        "plt.show()"
      ]
    },
    {
      "cell_type": "markdown",
      "metadata": {
        "id": "T40HuxuqS0_Z"
      },
      "source": [
        "When $n$ is large, the histogram of the sampled variables looks just like the probability distribution function!"
      ]
    },
    {
      "cell_type": "markdown",
      "metadata": {
        "id": "fJKGNVgDS0_Z"
      },
      "source": [
        "# Time permitting: explore categorical variables\n",
        "\n",
        "Note: the descriptive statistics and discussed in this lecture can only be computed for quantitative variables. Similarly, histograms, pdf's, and cdf's only apply to quantitative variables\n",
        "\n",
        "Recall the data frame we previsouly made from the 1994 census data:\n"
      ]
    },
    {
      "cell_type": "code",
      "execution_count": 30,
      "metadata": {
        "colab": {
          "base_uri": "https://localhost:8080/"
        },
        "id": "dIlZ4sGrS0_Z",
        "outputId": "9b485c7a-4bd4-4b6d-b76c-87182c4e0bcd"
      },
      "outputs": [
        {
          "name": "stdout",
          "output_type": "stream",
          "text": [
            " Married-civ-spouse       14976\n",
            " Never-married            10683\n",
            " Divorced                  4443\n",
            " Separated                 1025\n",
            " Widowed                    993\n",
            " Married-spouse-absent      418\n",
            " Married-AF-spouse           23\n",
            "Name: marital, dtype: int64 \n",
            "\n",
            " Married-civ-spouse       0.459937\n",
            " Never-married            0.328092\n",
            " Divorced                 0.136452\n",
            " Separated                0.031479\n",
            " Widowed                  0.030497\n",
            " Married-spouse-absent    0.012837\n",
            " Married-AF-spouse        0.000706\n",
            "Name: marital, dtype: float64 \n",
            "\n",
            " Male      0.669205\n",
            " Female    0.330795\n",
            "Name: sex, dtype: float64 \n",
            "\n",
            " <=50K    0.75919\n",
            " >50K     0.24081\n",
            "Name: income, dtype: float64 \n",
            "\n"
          ]
        },
        {
          "data": {
            "text/plain": [
              "sex      income\n",
              " Female   <=50K    0.890539\n",
              "          >50K     0.109461\n",
              " Male     <=50K    0.694263\n",
              "          >50K     0.305737\n",
              "Name: income, dtype: float64"
            ]
          },
          "execution_count": 30,
          "metadata": {},
          "output_type": "execute_result"
        }
      ],
      "source": [
        "#print(data)\n",
        "print(data[\"marital\"].value_counts(),\"\\n\")\n",
        "print(data[\"marital\"].value_counts(normalize=True),\"\\n\")\n",
        "print(data[\"sex\"].value_counts(normalize=True),\"\\n\")\n",
        "print(data[\"income\"].value_counts(normalize=True),\"\\n\")\n",
        "data.groupby(['sex'])['income'].value_counts(normalize=True)"
      ]
    },
    {
      "cell_type": "markdown",
      "metadata": {
        "collapsed": true,
        "id": "I3xuVs9-S0_Z",
        "nbpresent": {
          "id": "558af430-f4c0-4be9-b1ef-afce5fccd0fa"
        }
      },
      "source": [
        "# Concept recap\n",
        "- variable types \n",
        "- descriptive statistics in python (min, max, mean, median, std, var, histograms, quantiles) \n",
        "- correlation vs causation\n",
        "- confounding variables \n",
        "- descriptive vs. inferential statistics\n",
        "- discrete and continuous random variables (e.g.: Bernouilli, Binomial, Normal)\n"
      ]
    }
  ],
  "metadata": {
    "anaconda-cloud": {},
    "celltoolbar": "Slideshow",
    "colab": {
      "name": "02-descriptive_stats.ipynb",
      "provenance": []
    },
    "kernelspec": {
      "display_name": "Python 3 (ipykernel)",
      "language": "python",
      "name": "python3"
    },
    "language_info": {
      "codemirror_mode": {
        "name": "ipython",
        "version": 3
      },
      "file_extension": ".py",
      "mimetype": "text/x-python",
      "name": "python",
      "nbconvert_exporter": "python",
      "pygments_lexer": "ipython3",
      "version": "3.9.2"
    },
    "nbpresent": {
      "slides": {
        "006f01ca-e160-4faa-ad02-2f873362ca99": {
          "id": "006f01ca-e160-4faa-ad02-2f873362ca99",
          "prev": "e60ea09b-1474-49b0-9ea6-2e803b335693",
          "regions": {
            "88222835-28de-4a0f-895e-303024baf060": {
              "attrs": {
                "height": 0.8,
                "width": 0.8,
                "x": 0.1,
                "y": 0.1
              },
              "content": {
                "cell": "e6a51e7a-d63e-4187-8899-bfbf03f8a4b6",
                "part": "whole"
              },
              "id": "88222835-28de-4a0f-895e-303024baf060"
            }
          }
        },
        "2ba6955d-8be2-4ce3-ae98-f3b3695e4832": {
          "id": "2ba6955d-8be2-4ce3-ae98-f3b3695e4832",
          "prev": "35a7a5a6-f0c3-4b68-9579-e5840160a87d",
          "regions": {
            "63b4b5f3-c348-418c-aabf-932d5fdbcc1c": {
              "attrs": {
                "height": 0.8,
                "width": 0.8,
                "x": 0.1,
                "y": 0.1
              },
              "content": {
                "cell": "883076a7-1c6e-492f-b9d2-0b8550b5c31f",
                "part": "whole"
              },
              "id": "63b4b5f3-c348-418c-aabf-932d5fdbcc1c"
            }
          }
        },
        "2d5e1e8f-2e26-415e-8d8d-9229f2dc1244": {
          "id": "2d5e1e8f-2e26-415e-8d8d-9229f2dc1244",
          "prev": "9ba8c8c8-59a7-4776-84cb-084e5b0a2317",
          "regions": {
            "44582fec-116b-475d-9793-ad29580b7fc2": {
              "attrs": {
                "height": 0.8,
                "width": 0.8,
                "x": 0.1,
                "y": 0.1
              },
              "content": {
                "cell": "4992f285-654f-485e-81ef-8a6ae18cad34",
                "part": "whole"
              },
              "id": "44582fec-116b-475d-9793-ad29580b7fc2"
            }
          }
        },
        "35a7a5a6-f0c3-4b68-9579-e5840160a87d": {
          "id": "35a7a5a6-f0c3-4b68-9579-e5840160a87d",
          "prev": "c7291188-b014-4fcb-83bc-f1ea035ee4c9",
          "regions": {
            "cbc80f26-e933-4d90-9dfd-e55a3dc339ba": {
              "attrs": {
                "height": 0.8,
                "width": 0.8,
                "x": 0.1,
                "y": 0.1
              },
              "content": {
                "cell": "558af430-f4c0-4be9-b1ef-afce5fccd0fa",
                "part": "whole"
              },
              "id": "cbc80f26-e933-4d90-9dfd-e55a3dc339ba"
            }
          }
        },
        "3ecd0fe6-e75f-4362-a6e7-e5273e12058e": {
          "id": "3ecd0fe6-e75f-4362-a6e7-e5273e12058e",
          "prev": "2d5e1e8f-2e26-415e-8d8d-9229f2dc1244",
          "regions": {
            "eac20970-b45c-4073-a596-cdb2a974fe23": {
              "attrs": {
                "height": 0.8,
                "width": 0.8,
                "x": 0.1,
                "y": 0.1
              },
              "content": {
                "cell": "de60c848-d1fb-478d-a736-0ebe21762a24",
                "part": "whole"
              },
              "id": "eac20970-b45c-4073-a596-cdb2a974fe23"
            }
          }
        },
        "4e939c85-e2b3-48b3-b2df-389bc0ca7dd0": {
          "id": "4e939c85-e2b3-48b3-b2df-389bc0ca7dd0",
          "prev": "9807c9b8-54cd-4a78-b50d-1a6e9f7ff066",
          "regions": {
            "ddc97209-2f2f-409d-953c-a9a83dec6738": {
              "attrs": {
                "height": 0.8,
                "width": 0.8,
                "x": 0.1,
                "y": 0.1
              },
              "content": {
                "cell": "674ee724-0165-40c5-9296-83db8305fa4c",
                "part": "whole"
              },
              "id": "ddc97209-2f2f-409d-953c-a9a83dec6738"
            }
          }
        },
        "95bf00f9-fc2a-4478-bd48-fb66078e061f": {
          "id": "95bf00f9-fc2a-4478-bd48-fb66078e061f",
          "prev": "b9fa7815-a205-4ea6-9076-1289b96670cf",
          "regions": {
            "dd7aef1b-3f05-47a5-bc5f-274809d2c21d": {
              "attrs": {
                "height": 0.8,
                "width": 0.8,
                "x": 0.1,
                "y": 0.1
              },
              "content": {
                "cell": "61e1167e-99ef-4b5d-b717-07a46077a091",
                "part": "whole"
              },
              "id": "dd7aef1b-3f05-47a5-bc5f-274809d2c21d"
            }
          }
        },
        "966d5c12-49ef-4129-aecb-b183804ecd19": {
          "id": "966d5c12-49ef-4129-aecb-b183804ecd19",
          "prev": "3ecd0fe6-e75f-4362-a6e7-e5273e12058e",
          "regions": {
            "ff0704a2-f662-4a03-9874-5613f4634956": {
              "attrs": {
                "height": 0.8,
                "width": 0.8,
                "x": 0.1,
                "y": 0.1
              },
              "content": {
                "cell": "a6fd92a3-b57e-45c5-b216-f9f475baf8ce",
                "part": "whole"
              },
              "id": "ff0704a2-f662-4a03-9874-5613f4634956"
            }
          }
        },
        "9807c9b8-54cd-4a78-b50d-1a6e9f7ff066": {
          "id": "9807c9b8-54cd-4a78-b50d-1a6e9f7ff066",
          "prev": "966d5c12-49ef-4129-aecb-b183804ecd19",
          "regions": {
            "9e037b47-3fb5-4a60-b69c-ad3b282807a1": {
              "attrs": {
                "height": 0.8,
                "width": 0.8,
                "x": 0.1,
                "y": 0.1
              },
              "content": {
                "cell": "b79fa570-8c08-4820-a035-2a00bfae1a9b",
                "part": "whole"
              },
              "id": "9e037b47-3fb5-4a60-b69c-ad3b282807a1"
            }
          }
        },
        "9ba8c8c8-59a7-4776-84cb-084e5b0a2317": {
          "id": "9ba8c8c8-59a7-4776-84cb-084e5b0a2317",
          "prev": "9e2b6ffd-bec2-4027-93e8-64b63e770378",
          "regions": {
            "45bb0df9-937a-48a6-882b-346a1253250c": {
              "attrs": {
                "height": 0.8,
                "width": 0.8,
                "x": 0.1,
                "y": 0.1
              },
              "content": {
                "cell": "be5bedf1-b9ed-4caa-bc3e-6c390df97946",
                "part": "whole"
              },
              "id": "45bb0df9-937a-48a6-882b-346a1253250c"
            }
          }
        },
        "9e2b6ffd-bec2-4027-93e8-64b63e770378": {
          "id": "9e2b6ffd-bec2-4027-93e8-64b63e770378",
          "prev": "e9d31a55-0862-44ec-bd48-d74167655985",
          "regions": {
            "7a7c6996-8117-42ce-8093-318b84bd052b": {
              "attrs": {
                "height": 0.8,
                "width": 0.8,
                "x": 0.1,
                "y": 0.1
              },
              "content": {
                "cell": "95b34ac1-b36d-492d-84f9-adafb2d57ace",
                "part": "whole"
              },
              "id": "7a7c6996-8117-42ce-8093-318b84bd052b"
            }
          }
        },
        "ae354c9e-1384-4f31-8e03-5c96f3988bf4": {
          "id": "ae354c9e-1384-4f31-8e03-5c96f3988bf4",
          "prev": null,
          "regions": {
            "9e57ef10-c941-41de-93da-812357c7ec21": {
              "attrs": {
                "height": 0.8,
                "width": 0.8,
                "x": 0.1,
                "y": 0.1
              },
              "content": {
                "cell": "dac6427e-b8df-46f9-bfd3-b24427a73993",
                "part": "whole"
              },
              "id": "9e57ef10-c941-41de-93da-812357c7ec21"
            }
          }
        },
        "b9fa7815-a205-4ea6-9076-1289b96670cf": {
          "id": "b9fa7815-a205-4ea6-9076-1289b96670cf",
          "prev": "ae354c9e-1384-4f31-8e03-5c96f3988bf4",
          "regions": {
            "cc19ec36-3caa-4666-86e7-2bd1d9cb03b8": {
              "attrs": {
                "height": 0.8,
                "width": 0.8,
                "x": 0.1,
                "y": 0.1
              },
              "content": {
                "cell": "c7392535-4666-41a5-a68a-7306dccd6cd8",
                "part": "whole"
              },
              "id": "cc19ec36-3caa-4666-86e7-2bd1d9cb03b8"
            }
          }
        },
        "c7291188-b014-4fcb-83bc-f1ea035ee4c9": {
          "id": "c7291188-b014-4fcb-83bc-f1ea035ee4c9",
          "prev": "006f01ca-e160-4faa-ad02-2f873362ca99",
          "regions": {
            "3fa8900b-1ee2-4625-8e0b-a8a52d95390d": {
              "attrs": {
                "height": 0.8,
                "width": 0.8,
                "x": 0.1,
                "y": 0.1
              },
              "content": {
                "cell": "a912604c-786a-448e-a908-397f28b46a13",
                "part": "whole"
              },
              "id": "3fa8900b-1ee2-4625-8e0b-a8a52d95390d"
            }
          }
        },
        "e60ea09b-1474-49b0-9ea6-2e803b335693": {
          "id": "e60ea09b-1474-49b0-9ea6-2e803b335693",
          "prev": "4e939c85-e2b3-48b3-b2df-389bc0ca7dd0",
          "regions": {
            "3df2ec23-ba8a-4b76-b6af-2a4aa219da46": {
              "attrs": {
                "height": 0.8,
                "width": 0.8,
                "x": 0.1,
                "y": 0.1
              },
              "content": {
                "cell": "06d04c6d-90a4-441d-9d6e-4f719490e12e",
                "part": "whole"
              },
              "id": "3df2ec23-ba8a-4b76-b6af-2a4aa219da46"
            }
          }
        },
        "e9d31a55-0862-44ec-bd48-d74167655985": {
          "id": "e9d31a55-0862-44ec-bd48-d74167655985",
          "prev": "95bf00f9-fc2a-4478-bd48-fb66078e061f",
          "regions": {
            "cc6bd695-e238-4250-8822-ffea3f82f544": {
              "attrs": {
                "height": 0.8,
                "width": 0.8,
                "x": 0.1,
                "y": 0.1
              },
              "content": {
                "cell": "86c3f014-9535-48f0-95a2-df74d16eaa69",
                "part": "whole"
              },
              "id": "cc6bd695-e238-4250-8822-ffea3f82f544"
            }
          }
        }
      },
      "themes": {}
    }
  },
  "nbformat": 4,
  "nbformat_minor": 0
}
