{
  "cells": [
    {
      "cell_type": "markdown",
      "metadata": {
        "id": "9rXPrRrFRSuf"
      },
      "source": [
        "<a href=\"https://colab.research.google.com/github/chu-ise/413A-2022/blob/main/notebooks/02/01-stats.ipynb\" target=\"_parent\"><img src=\"https://colab.research.google.com/assets/colab-badge.svg\" alt=\"Open In Colab\"/></a>"
      ]
    },
    {
      "cell_type": "markdown",
      "metadata": {
        "id": "oV9iKSC4RSui"
      },
      "source": [
        "# Introduction to Probability and Statistics\n",
        "|\n",
        "In this notebook, we will play around with some of the concepts we have previously discussed. Many concepts from probability and statistics are well-represented in major libraries for data processing in Python, such as `numpy` and `pandas`."
      ]
    },
    {
      "cell_type": "code",
      "execution_count": 1,
      "metadata": {
        "id": "lqmaGWa5RSui"
      },
      "outputs": [],
      "source": [
        "import numpy as np\n",
        "import pandas as pd\n",
        "import random\n",
        "import matplotlib.pyplot as plt"
      ]
    },
    {
      "cell_type": "code",
      "execution_count": 5,
      "metadata": {
        "colab": {
          "base_uri": "https://localhost:8080/"
        },
        "id": "dNAtmiucRaqc",
        "outputId": "4aa1c352-1565-4ccc-dcaa-61d284418bed"
      },
      "outputs": [
        {
          "name": "stderr",
          "output_type": "stream",
          "text": [
            "Downloading...\n",
            "From: https://drive.google.com/uc?id=13mnxeW8lnMwajQHt88dXvnc8ONOJHEIK\n",
            "To: /content/data.zip\n",
            "100%|██████████| 1.20M/1.20M [00:00<00:00, 92.2MB/s]"
          ]
        },
        {
          "name": "stdout",
          "output_type": "stream",
          "text": [
            "Archive:  data.zip\n",
            "   creating: data/\n",
            "  inflating: data/Conf2.png          \n",
            "  inflating: data/adult.data         \n",
            "  inflating: data/Conf1.png          \n",
            "  inflating: data/purity.png         \n",
            "  inflating: data/SOCR_MLB.tsv       \n",
            "  inflating: data/InferenceErrors.png  \n",
            "  inflating: data/Correlation_examples2.svg  \n",
            "  inflating: data/SmallLargeStandDev.png  \n",
            " extracting: data/correlation.png    \n",
            "  inflating: data/global_warming.csv  \n",
            "  inflating: data/determinePvals.png  \n",
            "  inflating: data/test_data.csv      \n"
          ]
        },
        {
          "name": "stderr",
          "output_type": "stream",
          "text": [
            "\n"
          ]
        }
      ],
      "source": [
        "import gdown\n",
        "import os\n",
        "id = \"13mnxeW8lnMwajQHt88dXvnc8ONOJHEIK\"\n",
        "\n",
        "data_file = \"data.zip\"\n",
        "gdown.download(id=id, output=data_file, quiet=False)\n",
        "!unzip $data_file"
      ]
    },
    {
      "cell_type": "markdown",
      "metadata": {
        "id": "RENyfkq6RSuj"
      },
      "source": [
        "\n",
        "## Random Variables and Distributions\n",
        "\n",
        "Let's start with drawing a sample of 30 variables from a uniform distribution from 0 to 9. We will also compute mean and variance."
      ]
    },
    {
      "cell_type": "code",
      "execution_count": 6,
      "metadata": {
        "colab": {
          "base_uri": "https://localhost:8080/"
        },
        "id": "GmG1NGNSRSuj",
        "outputId": "23aea042-ea3a-4648-84de-b28a037b364e"
      },
      "outputs": [
        {
          "name": "stdout",
          "output_type": "stream",
          "text": [
            "Sample: [3, 6, 2, 7, 2, 7, 5, 10, 8, 10, 7, 7, 0, 7, 10, 9, 7, 6, 7, 0, 8, 9, 0, 3, 10, 2, 1, 1, 9, 3]\n",
            "Mean = 5.533333333333333\n",
            "Variance = 11.115555555555552\n"
          ]
        }
      ],
      "source": [
        "sample = [ random.randint(0,10) for _ in range(30) ]\n",
        "print(f\"Sample: {sample}\")\n",
        "print(f\"Mean = {np.mean(sample)}\")\n",
        "print(f\"Variance = {np.var(sample)}\")"
      ]
    },
    {
      "cell_type": "markdown",
      "metadata": {
        "id": "8mjsIc_-RSuj"
      },
      "source": [
        "To visually estimate how many different values are there in the sample, we can plot the **histogram**:"
      ]
    },
    {
      "cell_type": "code",
      "execution_count": 7,
      "metadata": {
        "colab": {
          "base_uri": "https://localhost:8080/",
          "height": 265
        },
        "id": "Sy6qKe8JRSuk",
        "outputId": "a5ba7588-5d5d-4589-e745-885b6628e514"
      },
      "outputs": [
        {
          "data": {
            "image/png": "[encoded data removed]",
            "text/plain": [
              "<Figure size 432x288 with 1 Axes>"
            ]
          },
          "metadata": {
            "needs_background": "light"
          },
          "output_type": "display_data"
        }
      ],
      "source": [
        "plt.hist(sample)\n",
        "plt.show()"
      ]
    },
    {
      "cell_type": "markdown",
      "metadata": {
        "id": "fHndWzW5RSuk"
      },
      "source": [
        "## Analyzing Real Data\n",
        "\n",
        "Mean and variance are very important when analyzing real-world data. Let's load the data about baseball players from [SOCR MLB Height/Weight Data](http://wiki.stat.ucla.edu/socr/index.php/SOCR_Data_MLB_HeightsWeights)"
      ]
    },
    {
      "cell_type": "code",
      "execution_count": 8,
      "metadata": {
        "colab": {
          "base_uri": "https://localhost:8080/",
          "height": 423
        },
        "id": "Z95K-9tdRSuk",
        "outputId": "70bdd05b-3959-476d-fc6c-1008d453ecab"
      },
      "outputs": [
        {
          "data": {
            "text/html": [
              "\n",
              "  <div id=\"df-dd2f9dbb-2287-4fd6-a0f7-3e1097fc5c2e\">\n",
              "    <div class=\"colab-df-container\">\n",
              "      <div>\n",
              "<style scoped>\n",
              "    .dataframe tbody tr th:only-of-type {\n",
              "        vertical-align: middle;\n",
              "    }\n",
              "\n",
              "    .dataframe tbody tr th {\n",
              "        vertical-align: top;\n",
              "    }\n",
              "\n",
              "    .dataframe thead th {\n",
              "        text-align: right;\n",
              "    }\n",
              "</style>\n",
              "<table border=\"1\" class=\"dataframe\">\n",
              "  <thead>\n",
              "    <tr style=\"text-align: right;\">\n",
              "      <th></th>\n",
              "      <th>Name</th>\n",
              "      <th>Team</th>\n",
              "      <th>Role</th>\n",
              "      <th>Height</th>\n",
              "      <th>Weight</th>\n",
              "      <th>Age</th>\n",
              "    </tr>\n",
              "  </thead>\n",
              "  <tbody>\n",
              "    <tr>\n",
              "      <th>0</th>\n",
              "      <td>Adam_Donachie</td>\n",
              "      <td>BAL</td>\n",
              "      <td>Catcher</td>\n",
              "      <td>74</td>\n",
              "      <td>180.0</td>\n",
              "      <td>22.99</td>\n",
              "    </tr>\n",
              "    <tr>\n",
              "      <th>1</th>\n",
              "      <td>Paul_Bako</td>\n",
              "      <td>BAL</td>\n",
              "      <td>Catcher</td>\n",
              "      <td>74</td>\n",
              "      <td>215.0</td>\n",
              "      <td>34.69</td>\n",
              "    </tr>\n",
              "    <tr>\n",
              "      <th>2</th>\n",
              "      <td>Ramon_Hernandez</td>\n",
              "      <td>BAL</td>\n",
              "      <td>Catcher</td>\n",
              "      <td>72</td>\n",
              "      <td>210.0</td>\n",
              "      <td>30.78</td>\n",
              "    </tr>\n",
              "    <tr>\n",
              "      <th>3</th>\n",
              "      <td>Kevin_Millar</td>\n",
              "      <td>BAL</td>\n",
              "      <td>First_Baseman</td>\n",
              "      <td>72</td>\n",
              "      <td>210.0</td>\n",
              "      <td>35.43</td>\n",
              "    </tr>\n",
              "    <tr>\n",
              "      <th>4</th>\n",
              "      <td>Chris_Gomez</td>\n",
              "      <td>BAL</td>\n",
              "      <td>First_Baseman</td>\n",
              "      <td>73</td>\n",
              "      <td>188.0</td>\n",
              "      <td>35.71</td>\n",
              "    </tr>\n",
              "    <tr>\n",
              "      <th>...</th>\n",
              "      <td>...</td>\n",
              "      <td>...</td>\n",
              "      <td>...</td>\n",
              "      <td>...</td>\n",
              "      <td>...</td>\n",
              "      <td>...</td>\n",
              "    </tr>\n",
              "    <tr>\n",
              "      <th>1029</th>\n",
              "      <td>Brad_Thompson</td>\n",
              "      <td>STL</td>\n",
              "      <td>Relief_Pitcher</td>\n",
              "      <td>73</td>\n",
              "      <td>190.0</td>\n",
              "      <td>25.08</td>\n",
              "    </tr>\n",
              "    <tr>\n",
              "      <th>1030</th>\n",
              "      <td>Tyler_Johnson</td>\n",
              "      <td>STL</td>\n",
              "      <td>Relief_Pitcher</td>\n",
              "      <td>74</td>\n",
              "      <td>180.0</td>\n",
              "      <td>25.73</td>\n",
              "    </tr>\n",
              "    <tr>\n",
              "      <th>1031</th>\n",
              "      <td>Chris_Narveson</td>\n",
              "      <td>STL</td>\n",
              "      <td>Relief_Pitcher</td>\n",
              "      <td>75</td>\n",
              "      <td>205.0</td>\n",
              "      <td>25.19</td>\n",
              "    </tr>\n",
              "    <tr>\n",
              "      <th>1032</th>\n",
              "      <td>Randy_Keisler</td>\n",
              "      <td>STL</td>\n",
              "      <td>Relief_Pitcher</td>\n",
              "      <td>75</td>\n",
              "      <td>190.0</td>\n",
              "      <td>31.01</td>\n",
              "    </tr>\n",
              "    <tr>\n",
              "      <th>1033</th>\n",
              "      <td>Josh_Kinney</td>\n",
              "      <td>STL</td>\n",
              "      <td>Relief_Pitcher</td>\n",
              "      <td>73</td>\n",
              "      <td>195.0</td>\n",
              "      <td>27.92</td>\n",
              "    </tr>\n",
              "  </tbody>\n",
              "</table>\n",
              "<p>1034 rows × 6 columns</p>\n",
              "</div>\n",
              "      <button class=\"colab-df-convert\" onclick=\"convertToInteractive('df-dd2f9dbb-2287-4fd6-a0f7-3e1097fc5c2e')\"\n",
              "              title=\"Convert this dataframe to an interactive table.\"\n",
              "              style=\"display:none;\">\n",
              "        \n",
              "  <svg xmlns=\"http://www.w3.org/2000/svg\" height=\"24px\"viewBox=\"0 0 24 24\"\n",
              "       width=\"24px\">\n",
              "    <path d=\"M0 0h24v24H0V0z\" fill=\"none\"/>\n",
              "    <path d=\"M18.56 5.44l.94 2.06.94-2.06 2.06-.94-2.06-.94-.94-2.06-.94 2.06-2.06.94zm-11 1L8.5 8.5l.94-2.06 2.06-.94-2.06-.94L8.5 2.5l-.94 2.06-2.06.94zm10 10l.94 2.06.94-2.06 2.06-.94-2.06-.94-.94-2.06-.94 2.06-2.06.94z\"/><path d=\"M17.41 7.96l-1.37-1.37c-.4-.4-.92-.59-1.43-.59-.52 0-1.04.2-1.43.59L10.3 9.45l-7.72 7.72c-.78.78-.78 2.05 0 2.83L4 21.41c.39.39.9.59 1.41.59.51 0 1.02-.2 1.41-.59l7.78-7.78 2.81-2.81c.8-.78.8-2.07 0-2.86zM5.41 20L4 18.59l7.72-7.72 1.47 1.35L5.41 20z\"/>\n",
              "  </svg>\n",
              "      </button>\n",
              "      \n",
              "  <style>\n",
              "    .colab-df-container {\n",
              "      display:flex;\n",
              "      flex-wrap:wrap;\n",
              "      gap: 12px;\n",
              "    }\n",
              "\n",
              "    .colab-df-convert {\n",
              "      background-color: #E8F0FE;\n",
              "      border: none;\n",
              "      border-radius: 50%;\n",
              "      cursor: pointer;\n",
              "      display: none;\n",
              "      fill: #1967D2;\n",
              "      height: 32px;\n",
              "      padding: 0 0 0 0;\n",
              "      width: 32px;\n",
              "    }\n",
              "\n",
              "    .colab-df-convert:hover {\n",
              "      background-color: #E2EBFA;\n",
              "      box-shadow: 0px 1px 2px rgba(60, 64, 67, 0.3), 0px 1px 3px 1px rgba(60, 64, 67, 0.15);\n",
              "      fill: #174EA6;\n",
              "    }\n",
              "\n",
              "    [theme=dark] .colab-df-convert {\n",
              "      background-color: #3B4455;\n",
              "      fill: #D2E3FC;\n",
              "    }\n",
              "\n",
              "    [theme=dark] .colab-df-convert:hover {\n",
              "      background-color: #434B5C;\n",
              "      box-shadow: 0px 1px 3px 1px rgba(0, 0, 0, 0.15);\n",
              "      filter: drop-shadow(0px 1px 2px rgba(0, 0, 0, 0.3));\n",
              "      fill: #FFFFFF;\n",
              "    }\n",
              "  </style>\n",
              "\n",
              "      <script>\n",
              "        const buttonEl =\n",
              "          document.querySelector('#df-dd2f9dbb-2287-4fd6-a0f7-3e1097fc5c2e button.colab-df-convert');\n",
              "        buttonEl.style.display =\n",
              "          google.colab.kernel.accessAllowed ? 'block' : 'none';\n",
              "\n",
              "        async function convertToInteractive(key) {\n",
              "          const element = document.querySelector('#df-dd2f9dbb-2287-4fd6-a0f7-3e1097fc5c2e');\n",
              "          const dataTable =\n",
              "            await google.colab.kernel.invokeFunction('convertToInteractive',\n",
              "                                                     [key], {});\n",
              "          if (!dataTable) return;\n",
              "\n",
              "          const docLinkHtml = 'Like what you see? Visit the ' +\n",
              "            '<a target=\"_blank\" href=https://colab.research.google.com/notebooks/data_table.ipynb>data table notebook</a>'\n",
              "            + ' to learn more about interactive tables.';\n",
              "          element.innerHTML = '';\n",
              "          dataTable['output_type'] = 'display_data';\n",
              "          await google.colab.output.renderOutput(dataTable, element);\n",
              "          const docLink = document.createElement('div');\n",
              "          docLink.innerHTML = docLinkHtml;\n",
              "          element.appendChild(docLink);\n",
              "        }\n",
              "      </script>\n",
              "    </div>\n",
              "  </div>\n",
              "  "
            ],
            "text/plain": [
              "                 Name Team            Role  Height  Weight    Age\n",
              "0       Adam_Donachie  BAL         Catcher      74   180.0  22.99\n",
              "1           Paul_Bako  BAL         Catcher      74   215.0  34.69\n",
              "2     Ramon_Hernandez  BAL         Catcher      72   210.0  30.78\n",
              "3        Kevin_Millar  BAL   First_Baseman      72   210.0  35.43\n",
              "4         Chris_Gomez  BAL   First_Baseman      73   188.0  35.71\n",
              "...               ...  ...             ...     ...     ...    ...\n",
              "1029    Brad_Thompson  STL  Relief_Pitcher      73   190.0  25.08\n",
              "1030    Tyler_Johnson  STL  Relief_Pitcher      74   180.0  25.73\n",
              "1031   Chris_Narveson  STL  Relief_Pitcher      75   205.0  25.19\n",
              "1032    Randy_Keisler  STL  Relief_Pitcher      75   190.0  31.01\n",
              "1033      Josh_Kinney  STL  Relief_Pitcher      73   195.0  27.92\n",
              "\n",
              "[1034 rows x 6 columns]"
            ]
          },
          "execution_count": 8,
          "metadata": {},
          "output_type": "execute_result"
        }
      ],
      "source": [
        "df = pd.read_csv(\"data/SOCR_MLB.tsv\",sep='\\t',header=None,names=['Name','Team','Role','Height','Weight','Age'])\n",
        "df"
      ]
    },
    {
      "cell_type": "markdown",
      "metadata": {
        "id": "ZQh7gYQ4RSul"
      },
      "source": [
        "> We are using a package called **Pandas** here for data analysis. We will talk more about Pandas and working with data in Python later in this course.\n",
        "\n",
        "Let's compute average values for age, height and weight:"
      ]
    },
    {
      "cell_type": "code",
      "execution_count": 9,
      "metadata": {
        "colab": {
          "base_uri": "https://localhost:8080/"
        },
        "id": "uot55JDTRSul",
        "outputId": "3acb2fbb-3177-4273-80b3-07ce2e58b29e"
      },
      "outputs": [
        {
          "data": {
            "text/plain": [
              "Age        28.736712\n",
              "Height     73.697292\n",
              "Weight    201.689255\n",
              "dtype: float64"
            ]
          },
          "execution_count": 9,
          "metadata": {},
          "output_type": "execute_result"
        }
      ],
      "source": [
        "df[['Age','Height','Weight']].mean()"
      ]
    },
    {
      "cell_type": "markdown",
      "metadata": {
        "id": "KTXU9BaERSul"
      },
      "source": [
        "Now let's focus on height, and compute standard deviation and variance: "
      ]
    },
    {
      "cell_type": "code",
      "execution_count": 10,
      "metadata": {
        "colab": {
          "base_uri": "https://localhost:8080/"
        },
        "id": "4ETvp1gkRSul",
        "outputId": "bfa5cf6e-18a6-43a9-8939-7d93d9777592"
      },
      "outputs": [
        {
          "name": "stdout",
          "output_type": "stream",
          "text": [
            "[74, 74, 72, 72, 73, 69, 69, 71, 76, 71, 73, 73, 74, 74, 69, 70, 72, 73, 75, 78]\n"
          ]
        }
      ],
      "source": [
        "print(list(df['Height'])[:20])"
      ]
    },
    {
      "cell_type": "code",
      "execution_count": 11,
      "metadata": {
        "colab": {
          "base_uri": "https://localhost:8080/"
        },
        "id": "x5PWdJQ_RSul",
        "outputId": "f8d1cb25-65bd-4dc8-a320-3c15d7f8ccad"
      },
      "outputs": [
        {
          "name": "stdout",
          "output_type": "stream",
          "text": [
            "Mean = 73.6972920696325\n",
            "Variance = 5.316798081118081\n",
            "Standard Deviation = 2.305818310517566\n"
          ]
        }
      ],
      "source": [
        "mean = df['Height'].mean()\n",
        "var = df['Height'].var()\n",
        "std = df['Height'].std()\n",
        "print(f\"Mean = {mean}\\nVariance = {var}\\nStandard Deviation = {std}\")"
      ]
    },
    {
      "cell_type": "markdown",
      "metadata": {
        "id": "WhNpu1pmRSum"
      },
      "source": [
        "In addition to mean, it makes sense to look at median value and quartiles. They can be visualized using **box plot**:"
      ]
    },
    {
      "cell_type": "code",
      "execution_count": 12,
      "metadata": {
        "colab": {
          "base_uri": "https://localhost:8080/",
          "height": 157
        },
        "id": "iQBDAPcTRSum",
        "outputId": "6b835063-8a24-4fb5-8f14-dbc4a13376b0"
      },
      "outputs": [
        {
          "data": {
            "image/png": "[encoded data removed]",
            "text/plain": [
              "<Figure size 720x144 with 1 Axes>"
            ]
          },
          "metadata": {
            "needs_background": "light"
          },
          "output_type": "display_data"
        }
      ],
      "source": [
        "plt.figure(figsize=(10,2))\n",
        "plt.boxplot(df['Height'],vert=False,showmeans=True)\n",
        "plt.grid(color='gray',linestyle='dotted')\n",
        "plt.show()"
      ]
    },
    {
      "cell_type": "markdown",
      "metadata": {
        "id": "qOIy2wnkRSum"
      },
      "source": [
        "We can also make box plots of subsets of our dataset, for example, grouped by player role."
      ]
    },
    {
      "cell_type": "code",
      "execution_count": 13,
      "metadata": {
        "colab": {
          "base_uri": "https://localhost:8080/",
          "height": 437
        },
        "id": "nh1mliecRSum",
        "outputId": "53e6a777-549c-4bc6-cdef-0a7691d09fed"
      },
      "outputs": [
        {
          "name": "stderr",
          "output_type": "stream",
          "text": [
            "/usr/local/lib/python3.7/dist-packages/matplotlib/cbook/__init__.py:1376: VisibleDeprecationWarning: Creating an ndarray from ragged nested sequences (which is a list-or-tuple of lists-or-tuples-or ndarrays with different lengths or shapes) is deprecated. If you meant to do this, you must specify 'dtype=object' when creating the ndarray.\n",
            "  X = np.atleast_1d(X.T if isinstance(X, np.ndarray) else np.asarray(X))\n"
          ]
        },
        {
          "data": {
            "image/png": "[encoded data removed]",
            "text/plain": [
              "<Figure size 432x288 with 1 Axes>"
            ]
          },
          "metadata": {
            "needs_background": "light"
          },
          "output_type": "display_data"
        }
      ],
      "source": [
        "df.boxplot(column='Height',by='Role')\n",
        "plt.xticks(rotation='vertical')\n",
        "plt.show()"
      ]
    },
    {
      "cell_type": "markdown",
      "metadata": {
        "id": "qyURZauFRSum"
      },
      "source": [
        "> **Note**: This diagram suggests, that on average, height of first basemen is higher that height of second basemen. Later we will learn how we can test this hypothesis more formally, and how to demonstrate that our data is statistically significant to show that.  \n",
        "\n",
        "Age, height and weight are all continuous random variables. What do you think their distribution is? A good way to find out is to plot the histogram of values: "
      ]
    },
    {
      "cell_type": "code",
      "execution_count": 14,
      "metadata": {
        "colab": {
          "base_uri": "https://localhost:8080/",
          "height": 308
        },
        "id": "5gSxCTCqRSum",
        "outputId": "b11e12a7-d300-4219-8ded-e611548beef6"
      },
      "outputs": [
        {
          "data": {
            "image/png": "[encoded data removed]",
            "text/plain": [
              "<Figure size 432x288 with 1 Axes>"
            ]
          },
          "metadata": {
            "needs_background": "light"
          },
          "output_type": "display_data"
        }
      ],
      "source": [
        "df['Weight'].hist(bins=15)\n",
        "plt.suptitle('Weight distribution of MLB Players')\n",
        "plt.xlabel('Weight')\n",
        "plt.ylabel('Count')\n",
        "plt.show()"
      ]
    },
    {
      "cell_type": "markdown",
      "metadata": {
        "id": "FWIPKH1aRSun"
      },
      "source": [
        "## Normal Distribution\n",
        "\n",
        "Let's create an artificial sample of weights that follows normal distribution with the same mean and variance as real data:"
      ]
    },
    {
      "cell_type": "code",
      "execution_count": 15,
      "metadata": {
        "colab": {
          "base_uri": "https://localhost:8080/"
        },
        "id": "buigK8ZKRSun",
        "outputId": "9e51b4c5-1488-4f69-f25a-ea036431a9a7"
      },
      "outputs": [
        {
          "data": {
            "text/plain": [
              "array([70.26594513, 76.18529272, 68.99756571, 71.04110989, 70.12638286,\n",
              "       78.51431799, 77.37994293, 78.59569165, 70.43796101, 72.78463632,\n",
              "       72.08060308, 73.85877359, 74.74624929, 77.62991436, 70.26597376,\n",
              "       72.78579154, 74.85101003, 73.95721391, 77.0744924 , 69.87881534])"
            ]
          },
          "execution_count": 15,
          "metadata": {},
          "output_type": "execute_result"
        }
      ],
      "source": [
        "generated = np.random.normal(mean,std,1000)\n",
        "generated[:20]"
      ]
    },
    {
      "cell_type": "code",
      "execution_count": 16,
      "metadata": {
        "colab": {
          "base_uri": "https://localhost:8080/",
          "height": 266
        },
        "id": "Nn5GuaHWRSun",
        "outputId": "3c264b3f-e462-46fd-eff4-d06fe3d36d98"
      },
      "outputs": [
        {
          "data": {
            "image/png": "[encoded data removed]",
            "text/plain": [
              "<Figure size 432x288 with 1 Axes>"
            ]
          },
          "metadata": {
            "needs_background": "light"
          },
          "output_type": "display_data"
        }
      ],
      "source": [
        "plt.hist(generated,bins=15)\n",
        "plt.show()"
      ]
    },
    {
      "cell_type": "code",
      "execution_count": 17,
      "metadata": {
        "colab": {
          "base_uri": "https://localhost:8080/",
          "height": 265
        },
        "id": "iBAFJ1NbRSun",
        "outputId": "9c0a249f-0157-4a14-c637-98c147b196ae"
      },
      "outputs": [
        {
          "data": {
            "image/png": "[encoded data removed]",
            "text/plain": [
              "<Figure size 432x288 with 1 Axes>"
            ]
          },
          "metadata": {
            "needs_background": "light"
          },
          "output_type": "display_data"
        }
      ],
      "source": [
        "plt.hist(np.random.normal(0,1,50000),bins=300)\n",
        "plt.show()"
      ]
    },
    {
      "cell_type": "markdown",
      "metadata": {
        "id": "sbb6OuFwRSun"
      },
      "source": [
        "Since most values in real life are normally distributed, it means we should not use uniform random number generator to generate sample data. Here is what happens if we try to generate weights with uniform distribution (generated by `np.random.rand`):"
      ]
    },
    {
      "cell_type": "code",
      "execution_count": 18,
      "metadata": {
        "colab": {
          "base_uri": "https://localhost:8080/",
          "height": 265
        },
        "id": "izM_uzOrRSun",
        "outputId": "1c0c07ba-bedb-4ddb-fa14-1e1199da40cc"
      },
      "outputs": [
        {
          "data": {
            "image/png": "[encoded data removed]",
            "text/plain": [
              "<Figure size 432x288 with 1 Axes>"
            ]
          },
          "metadata": {
            "needs_background": "light"
          },
          "output_type": "display_data"
        }
      ],
      "source": [
        "wrong_sample = np.random.rand(1000)*2*std+mean-std\n",
        "plt.hist(wrong_sample)\n",
        "plt.show()"
      ]
    },
    {
      "cell_type": "markdown",
      "metadata": {
        "id": "MSakyRhXRSun"
      },
      "source": [
        "## Confidence Intervals\n",
        "\n",
        "Let's now calculate confidence intervals for the weights and heights of baseball players. We will use the code [from this stackoverflow discussion](https://stackoverflow.com/questions/15033511/compute-a-confidence-interval-from-sample-data):"
      ]
    },
    {
      "cell_type": "code",
      "execution_count": 19,
      "metadata": {
        "colab": {
          "base_uri": "https://localhost:8080/"
        },
        "id": "Ab_uDhkVRSun",
        "outputId": "780e5e21-af90-4e70-86f3-e84c8f4cc0a7"
      },
      "outputs": [
        {
          "name": "stdout",
          "output_type": "stream",
          "text": [
            "p=0.85, mean = 201.73±0.94\n",
            "p=0.90, mean = 201.73±1.08\n",
            "p=0.95, mean = 201.73±1.28\n"
          ]
        }
      ],
      "source": [
        "import scipy.stats\n",
        "\n",
        "def mean_confidence_interval(data, confidence=0.95):\n",
        "    a = 1.0 * np.array(data)\n",
        "    n = len(a)\n",
        "    m, se = np.mean(a), scipy.stats.sem(a)\n",
        "    h = se * scipy.stats.t.ppf((1 + confidence) / 2., n-1)\n",
        "    return m, h\n",
        "\n",
        "for p in [0.85, 0.9, 0.95]:\n",
        "    m, h = mean_confidence_interval(df['Weight'].fillna(method='pad'),p)\n",
        "    print(f\"p={p:.2f}, mean = {m:.2f}±{h:.2f}\")"
      ]
    },
    {
      "cell_type": "markdown",
      "metadata": {
        "id": "GVzELc4pRSuo"
      },
      "source": [
        "## Hypothesis Testing\n",
        "\n",
        "Let's explore different roles in our baseball players dataset:"
      ]
    },
    {
      "cell_type": "code",
      "execution_count": 20,
      "metadata": {
        "colab": {
          "base_uri": "https://localhost:8080/",
          "height": 363
        },
        "id": "w8f67ap8RSuo",
        "outputId": "35eeed39-8c4b-4c1e-c7a6-92eb2f910f71"
      },
      "outputs": [
        {
          "data": {
            "text/html": [
              "\n",
              "  <div id=\"df-4cbfe4e7-6f49-4b88-889e-650eed3c0a6b\">\n",
              "    <div class=\"colab-df-container\">\n",
              "      <div>\n",
              "<style scoped>\n",
              "    .dataframe tbody tr th:only-of-type {\n",
              "        vertical-align: middle;\n",
              "    }\n",
              "\n",
              "    .dataframe tbody tr th {\n",
              "        vertical-align: top;\n",
              "    }\n",
              "\n",
              "    .dataframe thead th {\n",
              "        text-align: right;\n",
              "    }\n",
              "</style>\n",
              "<table border=\"1\" class=\"dataframe\">\n",
              "  <thead>\n",
              "    <tr style=\"text-align: right;\">\n",
              "      <th></th>\n",
              "      <th>Height</th>\n",
              "      <th>Weight</th>\n",
              "      <th>Count</th>\n",
              "    </tr>\n",
              "    <tr>\n",
              "      <th>Role</th>\n",
              "      <th></th>\n",
              "      <th></th>\n",
              "      <th></th>\n",
              "    </tr>\n",
              "  </thead>\n",
              "  <tbody>\n",
              "    <tr>\n",
              "      <th>Catcher</th>\n",
              "      <td>72.723684</td>\n",
              "      <td>204.328947</td>\n",
              "      <td>76</td>\n",
              "    </tr>\n",
              "    <tr>\n",
              "      <th>Designated_Hitter</th>\n",
              "      <td>74.222222</td>\n",
              "      <td>220.888889</td>\n",
              "      <td>18</td>\n",
              "    </tr>\n",
              "    <tr>\n",
              "      <th>First_Baseman</th>\n",
              "      <td>74.000000</td>\n",
              "      <td>213.109091</td>\n",
              "      <td>55</td>\n",
              "    </tr>\n",
              "    <tr>\n",
              "      <th>Outfielder</th>\n",
              "      <td>73.010309</td>\n",
              "      <td>199.113402</td>\n",
              "      <td>194</td>\n",
              "    </tr>\n",
              "    <tr>\n",
              "      <th>Relief_Pitcher</th>\n",
              "      <td>74.374603</td>\n",
              "      <td>203.517460</td>\n",
              "      <td>315</td>\n",
              "    </tr>\n",
              "    <tr>\n",
              "      <th>Second_Baseman</th>\n",
              "      <td>71.362069</td>\n",
              "      <td>184.344828</td>\n",
              "      <td>58</td>\n",
              "    </tr>\n",
              "    <tr>\n",
              "      <th>Shortstop</th>\n",
              "      <td>71.903846</td>\n",
              "      <td>182.923077</td>\n",
              "      <td>52</td>\n",
              "    </tr>\n",
              "    <tr>\n",
              "      <th>Starting_Pitcher</th>\n",
              "      <td>74.719457</td>\n",
              "      <td>205.163636</td>\n",
              "      <td>221</td>\n",
              "    </tr>\n",
              "    <tr>\n",
              "      <th>Third_Baseman</th>\n",
              "      <td>73.044444</td>\n",
              "      <td>200.955556</td>\n",
              "      <td>45</td>\n",
              "    </tr>\n",
              "  </tbody>\n",
              "</table>\n",
              "</div>\n",
              "      <button class=\"colab-df-convert\" onclick=\"convertToInteractive('df-4cbfe4e7-6f49-4b88-889e-650eed3c0a6b')\"\n",
              "              title=\"Convert this dataframe to an interactive table.\"\n",
              "              style=\"display:none;\">\n",
              "        \n",
              "  <svg xmlns=\"http://www.w3.org/2000/svg\" height=\"24px\"viewBox=\"0 0 24 24\"\n",
              "       width=\"24px\">\n",
              "    <path d=\"M0 0h24v24H0V0z\" fill=\"none\"/>\n",
              "    <path d=\"M18.56 5.44l.94 2.06.94-2.06 2.06-.94-2.06-.94-.94-2.06-.94 2.06-2.06.94zm-11 1L8.5 8.5l.94-2.06 2.06-.94-2.06-.94L8.5 2.5l-.94 2.06-2.06.94zm10 10l.94 2.06.94-2.06 2.06-.94-2.06-.94-.94-2.06-.94 2.06-2.06.94z\"/><path d=\"M17.41 7.96l-1.37-1.37c-.4-.4-.92-.59-1.43-.59-.52 0-1.04.2-1.43.59L10.3 9.45l-7.72 7.72c-.78.78-.78 2.05 0 2.83L4 21.41c.39.39.9.59 1.41.59.51 0 1.02-.2 1.41-.59l7.78-7.78 2.81-2.81c.8-.78.8-2.07 0-2.86zM5.41 20L4 18.59l7.72-7.72 1.47 1.35L5.41 20z\"/>\n",
              "  </svg>\n",
              "      </button>\n",
              "      \n",
              "  <style>\n",
              "    .colab-df-container {\n",
              "      display:flex;\n",
              "      flex-wrap:wrap;\n",
              "      gap: 12px;\n",
              "    }\n",
              "\n",
              "    .colab-df-convert {\n",
              "      background-color: #E8F0FE;\n",
              "      border: none;\n",
              "      border-radius: 50%;\n",
              "      cursor: pointer;\n",
              "      display: none;\n",
              "      fill: #1967D2;\n",
              "      height: 32px;\n",
              "      padding: 0 0 0 0;\n",
              "      width: 32px;\n",
              "    }\n",
              "\n",
              "    .colab-df-convert:hover {\n",
              "      background-color: #E2EBFA;\n",
              "      box-shadow: 0px 1px 2px rgba(60, 64, 67, 0.3), 0px 1px 3px 1px rgba(60, 64, 67, 0.15);\n",
              "      fill: #174EA6;\n",
              "    }\n",
              "\n",
              "    [theme=dark] .colab-df-convert {\n",
              "      background-color: #3B4455;\n",
              "      fill: #D2E3FC;\n",
              "    }\n",
              "\n",
              "    [theme=dark] .colab-df-convert:hover {\n",
              "      background-color: #434B5C;\n",
              "      box-shadow: 0px 1px 3px 1px rgba(0, 0, 0, 0.15);\n",
              "      filter: drop-shadow(0px 1px 2px rgba(0, 0, 0, 0.3));\n",
              "      fill: #FFFFFF;\n",
              "    }\n",
              "  </style>\n",
              "\n",
              "      <script>\n",
              "        const buttonEl =\n",
              "          document.querySelector('#df-4cbfe4e7-6f49-4b88-889e-650eed3c0a6b button.colab-df-convert');\n",
              "        buttonEl.style.display =\n",
              "          google.colab.kernel.accessAllowed ? 'block' : 'none';\n",
              "\n",
              "        async function convertToInteractive(key) {\n",
              "          const element = document.querySelector('#df-4cbfe4e7-6f49-4b88-889e-650eed3c0a6b');\n",
              "          const dataTable =\n",
              "            await google.colab.kernel.invokeFunction('convertToInteractive',\n",
              "                                                     [key], {});\n",
              "          if (!dataTable) return;\n",
              "\n",
              "          const docLinkHtml = 'Like what you see? Visit the ' +\n",
              "            '<a target=\"_blank\" href=https://colab.research.google.com/notebooks/data_table.ipynb>data table notebook</a>'\n",
              "            + ' to learn more about interactive tables.';\n",
              "          element.innerHTML = '';\n",
              "          dataTable['output_type'] = 'display_data';\n",
              "          await google.colab.output.renderOutput(dataTable, element);\n",
              "          const docLink = document.createElement('div');\n",
              "          docLink.innerHTML = docLinkHtml;\n",
              "          element.appendChild(docLink);\n",
              "        }\n",
              "      </script>\n",
              "    </div>\n",
              "  </div>\n",
              "  "
            ],
            "text/plain": [
              "                      Height      Weight  Count\n",
              "Role                                           \n",
              "Catcher            72.723684  204.328947     76\n",
              "Designated_Hitter  74.222222  220.888889     18\n",
              "First_Baseman      74.000000  213.109091     55\n",
              "Outfielder         73.010309  199.113402    194\n",
              "Relief_Pitcher     74.374603  203.517460    315\n",
              "Second_Baseman     71.362069  184.344828     58\n",
              "Shortstop          71.903846  182.923077     52\n",
              "Starting_Pitcher   74.719457  205.163636    221\n",
              "Third_Baseman      73.044444  200.955556     45"
            ]
          },
          "execution_count": 20,
          "metadata": {},
          "output_type": "execute_result"
        }
      ],
      "source": [
        "df.groupby('Role').agg({ 'Height' : 'mean', 'Weight' : 'mean', 'Age' : 'count'}).rename(columns={ 'Age' : 'Count'})"
      ]
    },
    {
      "cell_type": "markdown",
      "metadata": {
        "id": "5uHpyV8uRSuo"
      },
      "source": [
        "Let's test the hypothesis that First Basemen are higher then Second Basemen. The simplest way to do it is to test the confidence intervals:"
      ]
    },
    {
      "cell_type": "code",
      "execution_count": 21,
      "metadata": {
        "colab": {
          "base_uri": "https://localhost:8080/"
        },
        "id": "QgbY5aPQRSuo",
        "outputId": "20c71a55-b677-4338-a05d-69374e19fb92"
      },
      "outputs": [
        {
          "name": "stdout",
          "output_type": "stream",
          "text": [
            "Conf=0.85, 1st basemen height: 73.62..74.38, 2nd basemen height: 71.04..71.69\n",
            "Conf=0.90, 1st basemen height: 73.56..74.44, 2nd basemen height: 70.99..71.73\n",
            "Conf=0.95, 1st basemen height: 73.47..74.53, 2nd basemen height: 70.92..71.81\n"
          ]
        }
      ],
      "source": [
        "for p in [0.85,0.9,0.95]:\n",
        "    m1, h1 = mean_confidence_interval(df.loc[df['Role']=='First_Baseman',['Height']],p)\n",
        "    m2, h2 = mean_confidence_interval(df.loc[df['Role']=='Second_Baseman',['Height']],p)\n",
        "    print(f'Conf={p:.2f}, 1st basemen height: {m1-h1[0]:.2f}..{m1+h1[0]:.2f}, 2nd basemen height: {m2-h2[0]:.2f}..{m2+h2[0]:.2f}')"
      ]
    },
    {
      "cell_type": "markdown",
      "metadata": {
        "id": "YbCPDdanRSuo"
      },
      "source": [
        "We can see that intervals do not overlap.\n",
        "\n",
        "More statistically correct way to prove the hypothesis is to use **Student t-test**:"
      ]
    },
    {
      "cell_type": "code",
      "execution_count": 22,
      "metadata": {
        "colab": {
          "base_uri": "https://localhost:8080/"
        },
        "id": "_Q6Cu8XXRSuo",
        "outputId": "6110ec44-81a8-40fd-c143-01db2fb949e1"
      },
      "outputs": [
        {
          "name": "stdout",
          "output_type": "stream",
          "text": [
            "T-value = 7.65\n",
            "P-value: 9.137321189738925e-12\n"
          ]
        }
      ],
      "source": [
        "from scipy.stats import ttest_ind\n",
        "\n",
        "tval, pval = ttest_ind(df.loc[df['Role']=='First_Baseman',['Height']], df.loc[df['Role']=='Second_Baseman',['Height']],equal_var=False)\n",
        "print(f\"T-value = {tval[0]:.2f}\\nP-value: {pval[0]}\")"
      ]
    },
    {
      "cell_type": "markdown",
      "metadata": {
        "id": "D7rfpC5wRSuo"
      },
      "source": [
        "Two values returned by the `ttest_ind` functions are:\n",
        "* p-value can be considered as the probability of two distributions having the same mean. In our case, it is very low, meaning that there is strong evidence supporting that first basemen are taller\n",
        "* t-value is the intermediate value of normalized mean difference that is used in t-test, and it is compared against threshold value for a given confidence value "
      ]
    },
    {
      "cell_type": "markdown",
      "metadata": {
        "id": "88BjlH11RSuo"
      },
      "source": [
        "## Simulating Normal Distribution with Central Limit Theorem\n",
        "\n",
        "Pseudo-random generator in Python is designed to give us uniform distribution. If we want to create a generator for normal distribution, we can use central limit theorem. To get a normally distributed value we will just compute a mean of a uniform-generated sample."
      ]
    },
    {
      "cell_type": "code",
      "execution_count": 23,
      "metadata": {
        "colab": {
          "base_uri": "https://localhost:8080/",
          "height": 265
        },
        "id": "jAE23_N3RSup",
        "outputId": "f5472f54-61b0-4b74-d299-f5c75100e0f6"
      },
      "outputs": [
        {
          "data": {
            "image/png": "[encoded data removed]",
            "text/plain": [
              "<Figure size 432x288 with 1 Axes>"
            ]
          },
          "metadata": {
            "needs_background": "light"
          },
          "output_type": "display_data"
        }
      ],
      "source": [
        "def normal_random(sample_size=100):\n",
        "    sample = [random.uniform(0,1) for _ in range(sample_size) ]\n",
        "    return sum(sample)/sample_size\n",
        "\n",
        "sample = [normal_random() for _ in range(100)]\n",
        "plt.hist(sample)\n",
        "plt.show()"
      ]
    },
    {
      "cell_type": "markdown",
      "metadata": {
        "id": "9f0rxodZRSup"
      },
      "source": [
        "## Correlation and Evil Baseball Corp\n",
        "\n",
        "Correlation allows us to find inner connection between data sequences. In our toy example, let's pretend there is an evil baseball corporation that pays it's players according to their height - the taller the player is, the more money he/she gets. Suppose there is a base salary of $1000, and an additional bonus from $0 to $100, depending on height. We will take the real players from MLB, and compute their imaginary salaries:"
      ]
    },
    {
      "cell_type": "code",
      "execution_count": 24,
      "metadata": {
        "colab": {
          "base_uri": "https://localhost:8080/"
        },
        "id": "IZikY5a8RSup",
        "outputId": "b6453d21-3acc-4489-d2e1-d882a24ed1fa"
      },
      "outputs": [
        {
          "name": "stdout",
          "output_type": "stream",
          "text": [
            "[(74, 1075.2469071629068), (74, 1075.2469071629068), (72, 1053.7477908306478), (72, 1053.7477908306478), (73, 1064.4973489967772), (69, 1021.4991163322591), (69, 1021.4991163322591), (71, 1042.9982326645181), (76, 1096.746023495166), (71, 1042.9982326645181)]\n"
          ]
        }
      ],
      "source": [
        "heights = df['Height']\n",
        "salaries = 1000+(heights-heights.min())/(heights.max()-heights.mean())*100\n",
        "print(list(zip(heights,salaries))[:10])"
      ]
    },
    {
      "cell_type": "markdown",
      "metadata": {
        "id": "GWJmK_cTRSup"
      },
      "source": [
        "Let's now compute covariance and correlation of those sequences. `np.cov` will give us so-called **covariance matrix**, which is an extension of covariance to multiple variables. The element $M_{ij}$ of the covariance matrix $M$ is a correlation between input variables $X_i$ and $X_j$, and diagonal values $M_{ii}$ is the variance of $X_{i}$. Similarly, `np.corrcoef` will give us **correlation matrix**."
      ]
    },
    {
      "cell_type": "code",
      "execution_count": 25,
      "metadata": {
        "colab": {
          "base_uri": "https://localhost:8080/"
        },
        "id": "CEAC_Z_QRSup",
        "outputId": "7fe8b92b-b42c-4d85-d63b-709fe4053e50"
      },
      "outputs": [
        {
          "name": "stdout",
          "output_type": "stream",
          "text": [
            "Covariance matrix:\n",
            "[[  5.31679808  57.15323023]\n",
            " [ 57.15323023 614.37197275]]\n",
            "Covariance = 57.1532302305447\n",
            "Correlation = 1.0\n"
          ]
        }
      ],
      "source": [
        "print(f\"Covariance matrix:\\n{np.cov(heights,salaries)}\")\n",
        "print(f\"Covariance = {np.cov(heights,salaries)[0,1]}\")\n",
        "print(f\"Correlation = {np.corrcoef(heights,salaries)[0,1]}\")"
      ]
    },
    {
      "cell_type": "markdown",
      "metadata": {
        "id": "qm8zmBuHRSup"
      },
      "source": [
        "Correlation equal to 1 means that there is a strong **linear relation** between two variables. We can visually see the linear relation by plotting one value against the other:"
      ]
    },
    {
      "cell_type": "code",
      "execution_count": 26,
      "metadata": {
        "colab": {
          "base_uri": "https://localhost:8080/",
          "height": 265
        },
        "id": "Hu2FmoNjRSup",
        "outputId": "7475da59-5436-4641-d523-7acad32165ae"
      },
      "outputs": [
        {
          "data": {
            "image/png": "[encoded data removed]",
            "text/plain": [
              "<Figure size 432x288 with 1 Axes>"
            ]
          },
          "metadata": {
            "needs_background": "light"
          },
          "output_type": "display_data"
        }
      ],
      "source": [
        "plt.scatter(heights,salaries)\n",
        "plt.show()"
      ]
    },
    {
      "cell_type": "markdown",
      "metadata": {
        "id": "DICDY18cRSup"
      },
      "source": [
        "Let's see what happens if the relation is not linear. Suppose that our corporation decided to hide the obvious linear dependency between heights and salaries, and introduced some non-linearity into the formula, such as `sin`:"
      ]
    },
    {
      "cell_type": "code",
      "execution_count": 27,
      "metadata": {
        "colab": {
          "base_uri": "https://localhost:8080/"
        },
        "id": "M1iVMGcQRSup",
        "outputId": "4c5ecbfb-0dbb-45ae-84bd-a77eceb34ddf"
      },
      "outputs": [
        {
          "name": "stdout",
          "output_type": "stream",
          "text": [
            "Correlation = 0.9835304456670827\n"
          ]
        }
      ],
      "source": [
        "salaries = 1000+np.sin((heights-heights.min())/(heights.max()-heights.mean()))*100\n",
        "print(f\"Correlation = {np.corrcoef(heights,salaries)[0,1]}\")"
      ]
    },
    {
      "cell_type": "markdown",
      "metadata": {
        "id": "c17DR0ITRSup"
      },
      "source": [
        "In this case, the correlation is slightly smaller, but it is still quite high. Now, to make the relation even less obvious, we might want to add some extra randomness by adding some random variable to the salary. Let's see what happens:"
      ]
    },
    {
      "cell_type": "code",
      "execution_count": 28,
      "metadata": {
        "colab": {
          "base_uri": "https://localhost:8080/"
        },
        "id": "sMsze-HWRSup",
        "outputId": "a6009750-c491-4efb-f998-da7851a4fd4a"
      },
      "outputs": [
        {
          "name": "stdout",
          "output_type": "stream",
          "text": [
            "Correlation = 0.9372191298776998\n"
          ]
        }
      ],
      "source": [
        "salaries = 1000+np.sin((heights-heights.min())/(heights.max()-heights.mean()))*100+np.random.random(size=len(heights))*20-10\n",
        "print(f\"Correlation = {np.corrcoef(heights,salaries)[0,1]}\")"
      ]
    },
    {
      "cell_type": "code",
      "execution_count": 29,
      "metadata": {
        "colab": {
          "base_uri": "https://localhost:8080/",
          "height": 265
        },
        "id": "VHuVMhwkRSup",
        "outputId": "9524dd0e-0fed-4e05-d2dc-6e5881f2929b"
      },
      "outputs": [
        {
          "data": {
            "image/png": "[encoded data removed]",
            "text/plain": [
              "<Figure size 432x288 with 1 Axes>"
            ]
          },
          "metadata": {
            "needs_background": "light"
          },
          "output_type": "display_data"
        }
      ],
      "source": [
        "plt.scatter(heights, salaries)\n",
        "plt.show()"
      ]
    },
    {
      "cell_type": "markdown",
      "metadata": {
        "id": "ooNnHYBaRSup"
      },
      "source": [
        "> Can you guess why the dots line up into vertical lines like this?\n",
        "\n",
        "We have observed the correlation between artificially engineered concept like salary and the observed variable *height*. Let's also see if the two observed variables, such as height and weight, also correlate:"
      ]
    },
    {
      "cell_type": "code",
      "execution_count": 30,
      "metadata": {
        "colab": {
          "base_uri": "https://localhost:8080/"
        },
        "id": "VVy5cohsRSup",
        "outputId": "f40efac8-af1d-4b87-cf70-93f0d32b5329"
      },
      "outputs": [
        {
          "data": {
            "text/plain": [
              "array([[ 1., nan],\n",
              "       [nan, nan]])"
            ]
          },
          "execution_count": 30,
          "metadata": {},
          "output_type": "execute_result"
        }
      ],
      "source": [
        "np.corrcoef(df['Height'],df['Weight'])"
      ]
    },
    {
      "cell_type": "markdown",
      "metadata": {
        "id": "78y8icVHRSup"
      },
      "source": [
        "Unfortunately, we did not get any results - only some strange `nan` values. This is due to the fact that some of the values in our series are undefined, represented as `nan`, which causes the result of the operation to be undefined as well. By looking at the matrix we can see that `Weight` is problematic column, because self-correlation between `Height` values has been computed.\n",
        "\n",
        "> This example shows the importance of **data preparation** and **cleaning**. Without proper data we cannot compute anything.\n",
        "\n",
        "Let's use `fillna` method to fill the missing values, and compute the correlation: "
      ]
    },
    {
      "cell_type": "code",
      "execution_count": 31,
      "metadata": {
        "colab": {
          "base_uri": "https://localhost:8080/"
        },
        "id": "6YgXsIlKRSup",
        "outputId": "be2e4a7a-7639-43fd-81ba-244c52b8439c"
      },
      "outputs": [
        {
          "data": {
            "text/plain": [
              "array([[1.        , 0.52959196],\n",
              "       [0.52959196, 1.        ]])"
            ]
          },
          "execution_count": 31,
          "metadata": {},
          "output_type": "execute_result"
        }
      ],
      "source": [
        "np.corrcoef(df['Height'],df['Weight'].fillna(method='pad'))"
      ]
    },
    {
      "cell_type": "markdown",
      "metadata": {
        "id": "vRqn6tG8RSup"
      },
      "source": [
        "The is indeed a correlation, but not such a strong one as in our artificial example. Indeed, if we look at the scatter plot of one value against the other, the relation would be much less obvious:"
      ]
    },
    {
      "cell_type": "code",
      "execution_count": 32,
      "metadata": {
        "colab": {
          "base_uri": "https://localhost:8080/",
          "height": 279
        },
        "id": "NCIaFi-3RSuq",
        "outputId": "e0b4c2f6-7ca4-4aa8-c11c-55f333a919a6"
      },
      "outputs": [
        {
          "data": {
            "image/png": "[encoded data removed]",
            "text/plain": [
              "<Figure size 432x288 with 1 Axes>"
            ]
          },
          "metadata": {
            "needs_background": "light"
          },
          "output_type": "display_data"
        }
      ],
      "source": [
        "plt.scatter(df['Height'],df['Weight'])\n",
        "plt.xlabel('Height')\n",
        "plt.ylabel('Weight')\n",
        "plt.show()"
      ]
    },
    {
      "cell_type": "markdown",
      "metadata": {
        "id": "TvBMBz0PRSuq"
      },
      "source": [
        "## Conclusion\n",
        "\n",
        "In this notebook, we have learnt how to perform basic operations on data to compute statistical functions. We now know how to use sound apparatus of math and statistics in order to prove some hypotheses, and how to compute confidence intervals for random variable given data sample. "
      ]
    }
  ],
  "metadata": {
    "colab": {
      "name": "01-stats.ipynb",
      "provenance": []
    },
    "interpreter": {
      "hash": "86193a1ab0ba47eac1c69c1756090baa3b420b3eea7d4aafab8b85f8b312f0c5"
    },
    "kernelspec": {
      "display_name": "Python 3.8.8 64-bit (conda)",
      "name": "python3"
    },
    "language_info": {
      "codemirror_mode": {
        "name": "ipython",
        "version": 3
      },
      "file_extension": ".py",
      "mimetype": "text/x-python",
      "name": "python",
      "nbconvert_exporter": "python",
      "pygments_lexer": "ipython3",
      "version": "3.9.2"
    },
    "orig_nbformat": 4
  },
  "nbformat": 4,
  "nbformat_minor": 0
}
